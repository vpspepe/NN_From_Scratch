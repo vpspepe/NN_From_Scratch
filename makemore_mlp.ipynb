{
 "cells": [
  {
   "cell_type": "markdown",
   "metadata": {},
   "source": [
    "# ***MAKEMORE: NLP MODEL WITH EMBEDDINGS, LR DECAY AND BATCH SPLITS***"
   ]
  },
  {
   "cell_type": "markdown",
   "metadata": {},
   "source": [
    "### Importing Libs"
   ]
  },
  {
   "cell_type": "code",
   "execution_count": 1,
   "metadata": {},
   "outputs": [],
   "source": [
    "import torch\n",
    "import torch.nn.functional as F\n",
    "import matplotlib.pyplot as plt\n",
    "import numpy as np"
   ]
  },
  {
   "cell_type": "markdown",
   "metadata": {},
   "source": [
    "### Reading list of names (all lowered already)"
   ]
  },
  {
   "cell_type": "code",
   "execution_count": 2,
   "metadata": {},
   "outputs": [
    {
     "data": {
      "text/plain": [
       "['emma',\n",
       " 'olivia',\n",
       " 'ava',\n",
       " 'isabella',\n",
       " 'sophia',\n",
       " 'charlotte',\n",
       " 'mia',\n",
       " 'amelia',\n",
       " 'harper',\n",
       " 'evelyn']"
      ]
     },
     "execution_count": 2,
     "metadata": {},
     "output_type": "execute_result"
    }
   ],
   "source": [
    "words = open(\"names.txt\", \"r\").read().splitlines()\n",
    "words[:10]"
   ]
  },
  {
   "cell_type": "markdown",
   "metadata": {},
   "source": [
    "### Building vocab of chars and mapping into integers"
   ]
  },
  {
   "cell_type": "code",
   "execution_count": 3,
   "metadata": {},
   "outputs": [
    {
     "name": "stdout",
     "output_type": "stream",
     "text": [
      "{1: 'a', 2: 'b', 3: 'c', 4: 'd', 5: 'e', 6: 'f', 7: 'g', 8: 'h', 9: 'i', 10: 'j', 11: 'k', 12: 'l', 13: 'm', 14: 'n', 15: 'o', 16: 'p', 17: 'q', 18: 'r', 19: 's', 20: 't', 21: 'u', 22: 'v', 23: 'w', 24: 'x', 25: 'y', 26: 'z', 0: '.'}\n"
     ]
    }
   ],
   "source": [
    "chars = sorted(list(set(''.join(words))))\n",
    "stoi = {s:i + 1 for i, s in enumerate(chars)}\n",
    "stoi['.'] = 0\n",
    "itos = {i:s for s, i in stoi.items()}\n",
    "print(itos)"
   ]
  },
  {
   "cell_type": "markdown",
   "metadata": {},
   "source": [
    "### Build dataset"
   ]
  },
  {
   "cell_type": "code",
   "execution_count": 4,
   "metadata": {},
   "outputs": [],
   "source": [
    "block_size = 3\n",
    "X, Y = [], []\n",
    "for w in words:\n",
    "    \n",
    "    context = [0] * block_size\n",
    "    for ch in w + '.':\n",
    "        ix = stoi[ch]\n",
    "        X.append(context.copy())\n",
    "        Y.append(ix)\n",
    "        context = context[1:] + [ix]\n",
    "\n",
    "X = torch.tensor(X)\n",
    "Y = torch.tensor(Y)"
   ]
  },
  {
   "cell_type": "markdown",
   "metadata": {},
   "source": [
    "### Train Test Validation splits"
   ]
  },
  {
   "cell_type": "code",
   "execution_count": 5,
   "metadata": {},
   "outputs": [],
   "source": [
    "def build_dataset(words):\n",
    "    X, Y = [], []\n",
    "    for w in words:\n",
    "        context = [0] * block_size\n",
    "        for ch in w + '.':\n",
    "            ix = stoi[ch]\n",
    "            X.append(context.copy())\n",
    "            Y.append(ix)\n",
    "            context = context[1:] + [ix]\n",
    "    return torch.tensor(X), torch.tensor(Y)\n",
    "\n",
    "import random\n",
    "random.seed(42)\n",
    "random.shuffle(words)\n",
    "#80% train, 10% validation, 10% test\n",
    "train = words[:int(.8 * len(words))]\n",
    "valid = words[int(.8 * len(words)):int(.9 * len(words))]\n",
    "test = words[int(.9 * len(words)):]\n",
    "\n",
    "X_train, Y_train = build_dataset(train)\n",
    "X_valid, Y_valid = build_dataset(valid)\n",
    "X_test, Y_test = build_dataset(test)"
   ]
  },
  {
   "cell_type": "code",
   "execution_count": 6,
   "metadata": {},
   "outputs": [
    {
     "data": {
      "text/plain": [
       "(torch.Size([182625, 3]), torch.Size([22655, 3]), torch.Size([22866, 3]))"
      ]
     },
     "execution_count": 6,
     "metadata": {},
     "output_type": "execute_result"
    }
   ],
   "source": [
    "X_train.shape, X_valid.shape, X_test.shape"
   ]
  },
  {
   "cell_type": "code",
   "execution_count": 52,
   "metadata": {},
   "outputs": [],
   "source": [
    "g = torch.Generator().manual_seed(42)\n",
    "# Embedding matrix (dimension 10)\n",
    "emb_dim = 6\n",
    "C = torch.ones((27, emb_dim))*(1/27.0)\n",
    "# MLP weights and biases\n",
    "W1 = torch.randn((emb_dim*block_size, 200), generator=g)\n",
    "b1 = torch.randn(200, generator=g)\n",
    "W2 = torch.randn((200, 27), generator=g)\n",
    "b2 = torch.randn(27, generator=g)\n",
    "params = [C, W1, b1, W2, b2]"
   ]
  },
  {
   "cell_type": "code",
   "execution_count": 53,
   "metadata": {},
   "outputs": [],
   "source": [
    "for p in params:\n",
    "    p.requires_grad = True\n",
    "\n",
    "# Decay the learning rate\n",
    "lre = torch.linspace(-3, 0, 1000)\n",
    "lrs = 10 ** lre"
   ]
  },
  {
   "cell_type": "code",
   "execution_count": 54,
   "metadata": {},
   "outputs": [
    {
     "name": "stdout",
     "output_type": "stream",
     "text": [
      "2.7682735919952393\n"
     ]
    }
   ],
   "source": [
    "lossi = []\n",
    "lri = []\n",
    "stepi = []\n",
    "losses = []\n",
    "n_steps = 500000\n",
    "for i in range(n_steps):\n",
    "    # Minibatch of size 32\n",
    "    ix = torch.randint(0, X_train.shape[0], (32,))\n",
    "    # Forward\n",
    "    emb = C[X_train[ix]]\n",
    "    h = torch.tanh(emb.view(-1, emb_dim*block_size) @ W1 + b1)\n",
    "    logits = h @ W2 + b2\n",
    "    # Neg Log lokelihood\n",
    "    loss = F.cross_entropy(logits, Y[ix])\n",
    "    #Backward\n",
    "    for p in params:\n",
    "        p.grad = None\n",
    "    loss.backward() \n",
    "    # update params\n",
    "    lr = 0.1 if i < int(.5*n_steps) else 0.01\n",
    "    # lr = lri[i]\n",
    "    for p in params:\n",
    "        p.data -= p.grad * lr\n",
    "    # lossi.append(loss.item())\n",
    "    # lri.append(lr)\n",
    "    stepi.append(i)\n",
    "    losses.append(loss.item())\n",
    "print(loss.item())"
   ]
  },
  {
   "cell_type": "markdown",
   "metadata": {},
   "source": [
    "## Visualize Losses"
   ]
  },
  {
   "cell_type": "code",
   "execution_count": 46,
   "metadata": {},
   "outputs": [
    {
     "data": {
      "text/plain": [
       "Text(0, 0.5, 'Loss')"
      ]
     },
     "execution_count": 46,
     "metadata": {},
     "output_type": "execute_result"
    },
    {
     "data": {
      "image/png": "[encoded data removed]",
      "text/plain": [
       "<Figure size 640x480 with 1 Axes>"
      ]
     },
     "metadata": {},
     "output_type": "display_data"
    }
   ],
   "source": [
    "plt.plot(stepi, losses)\n",
    "plt.title(\"Step X Loss\")\n",
    "plt.xlabel(\"Step\")\n",
    "plt.ylabel(\"Loss\")"
   ]
  },
  {
   "cell_type": "code",
   "execution_count": 47,
   "metadata": {},
   "outputs": [],
   "source": [
    "# plt.subplots(1, 2, figsize=(10, 5))\n",
    "# plt.subplot(1, 2, 1)\n",
    "# plt.plot(lri, lossi)\n",
    "# plt.title(\"Learning Rate X Loss\")\n",
    "# plt.xlabel(\"Learning Rate\")\n",
    "# plt.ylabel(\"Loss\")\n",
    "# plt.subplot(1, 2, 2)\n",
    "# plt.plot(lre, lossi)\n",
    "# plt.title(\"Exp Learning Rate X Loss\")\n",
    "# plt.xlabel(\"Exp Learning Rate\")\n",
    "# plt.ylabel(\"Loss\")\n"
   ]
  },
  {
   "cell_type": "markdown",
   "metadata": {},
   "source": [
    "## Eval on test and on train set to check over/underfitting"
   ]
  },
  {
   "cell_type": "code",
   "execution_count": 55,
   "metadata": {},
   "outputs": [
    {
     "name": "stdout",
     "output_type": "stream",
     "text": [
      "Test loss: 2.8333327770233154\n",
      "Train loss: 2.8308684825897217\n"
     ]
    }
   ],
   "source": [
    "# Evaluate on test set\n",
    "emb = C[X_test]\n",
    "h = torch.tanh(emb.view(-1, block_size*emb_dim) @ W1 + b1)\n",
    "logits = h @ W2 + b2\n",
    "loss = F.cross_entropy(logits, Y_test)\n",
    "print(f'Test loss: {loss.item()}')\n",
    "\n",
    "# Evaluate on train set\n",
    "emb = C[X_train]\n",
    "h = torch.tanh(emb.view(-1, block_size*emb_dim) @ W1 + b1)\n",
    "logits = h @ W2 + b2\n",
    "loss = F.cross_entropy(logits, Y_train)\n",
    "print(f'Train loss: {loss.item()}')"
   ]
  },
  {
   "cell_type": "markdown",
   "metadata": {},
   "source": [
    "## Visualize embeddings"
   ]
  },
  {
   "cell_type": "code",
   "execution_count": 56,
   "metadata": {},
   "outputs": [
    {
     "data": {
      "text/plain": [
       "tensor([ 0.0147,  0.0625, -0.0673,  0.0812,  0.0327, -0.0849,  0.0482,  0.0849,\n",
       "         0.0116,  0.0620,  0.0408,  0.0190,  0.0013, -0.0472,  0.0286,  0.0121,\n",
       "         0.1128,  0.0411,  0.0101, -0.0239, -0.0531,  0.0226, -0.1596, -0.0011,\n",
       "         0.0309, -0.0318,  0.0730], grad_fn=<SelectBackward0>)"
      ]
     },
     "execution_count": 56,
     "metadata": {},
     "output_type": "execute_result"
    }
   ],
   "source": [
    "C[:, 1]"
   ]
  },
  {
   "cell_type": "code",
   "execution_count": 57,
   "metadata": {},
   "outputs": [
    {
     "data": {
      "image/png": "[encoded data removed]",
      "text/plain": [
       "<Figure size 640x480 with 1 Axes>"
      ]
     },
     "metadata": {},
     "output_type": "display_data"
    }
   ],
   "source": [
    "# plt.figure(figsize=(8, 8))\n",
    "plt.scatter(C[:, 0].data, C[:, 1].data, s=200)\n",
    "for i in range(C.shape[0]):\n",
    "    plt.text(C[i, 0].item(), C[i, 1].item(), itos[i], fontsize=12, ha=\"center\", va=\"center\", color=\"white\")\n",
    "plt.grid('minor')"
   ]
  },
  {
   "cell_type": "markdown",
   "metadata": {},
   "source": [
    "## Sampling from the model"
   ]
  },
  {
   "cell_type": "code",
   "execution_count": 58,
   "metadata": {},
   "outputs": [
    {
     "name": "stdout",
     "output_type": "stream",
     "text": [
      "nlaahbnes.\n",
      "lryobahnezes.\n",
      ".\n",
      ".\n",
      "vn.\n",
      "yhoenncnatlrlaaesanmlrqn.\n",
      "aaaoeuavarm.\n",
      ".\n",
      "ecnieo.\n",
      "mlneuaa.\n",
      "nrnaee.\n",
      "zy.\n",
      "oiss.\n",
      ".\n",
      "insaioarnaya.\n",
      "ehcrunia.\n",
      "muqaaal.\n",
      "o.\n",
      "ofore.\n",
      "ea.\n"
     ]
    }
   ],
   "source": [
    "for _ in range(20):\n",
    "    out = []\n",
    "    context = [0]*block_size\n",
    "    while True:\n",
    "        emb = C[torch.tensor([context])]\n",
    "        h = torch.tanh(emb.view(1, -1) @ W1 + b1)\n",
    "        logits = h @ W2 + b2\n",
    "        probs = F.softmax(logits, dim=1)\n",
    "        ix = torch.multinomial(probs, 1).item()\n",
    "        context = context[1:] + [ix]\n",
    "        out.append(ix)\n",
    "        if ix == 0: break\n",
    "    print(''.join([itos[i] for i in out]))"
   ]
  },
  {
   "cell_type": "code",
   "execution_count": null,
   "metadata": {},
   "outputs": [],
   "source": []
  }
 ],
 "metadata": {
  "kernelspec": {
   "display_name": "nn_venv",
   "language": "python",
   "name": "python3"
  },
  "language_info": {
   "codemirror_mode": {
    "name": "ipython",
    "version": 3
   },
   "file_extension": ".py",
   "mimetype": "text/x-python",
   "name": "python",
   "nbconvert_exporter": "python",
   "pygments_lexer": "ipython3",
   "version": "3.11.11"
  }
 },
 "nbformat": 4,
 "nbformat_minor": 2
}
