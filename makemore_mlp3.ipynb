{
 "cells": [
  {
   "cell_type": "markdown",
   "metadata": {},
   "source": [
    "# ***MAKEMORE: BACKPROP STEP BY STEP***"
   ]
  },
  {
   "cell_type": "markdown",
   "metadata": {},
   "source": [
    "### Importing Libs"
   ]
  },
  {
   "cell_type": "code",
   "execution_count": 2,
   "metadata": {},
   "outputs": [],
   "source": [
    "import torch\n",
    "import torch.nn.functional as F\n",
    "import matplotlib.pyplot as plt\n",
    "import numpy as np"
   ]
  },
  {
   "cell_type": "markdown",
   "metadata": {},
   "source": [
    "### Reading list of names (all lowered already)"
   ]
  },
  {
   "cell_type": "code",
   "execution_count": 3,
   "metadata": {},
   "outputs": [
    {
     "data": {
      "text/plain": [
       "['emma',\n",
       " 'olivia',\n",
       " 'ava',\n",
       " 'isabella',\n",
       " 'sophia',\n",
       " 'charlotte',\n",
       " 'mia',\n",
       " 'amelia',\n",
       " 'harper',\n",
       " 'evelyn']"
      ]
     },
     "execution_count": 3,
     "metadata": {},
     "output_type": "execute_result"
    }
   ],
   "source": [
    "words = open(\"names.txt\", \"r\").read().splitlines()\n",
    "words[:10]"
   ]
  },
  {
   "cell_type": "markdown",
   "metadata": {},
   "source": [
    "### Building vocab of chars and mapping into integers"
   ]
  },
  {
   "cell_type": "code",
   "execution_count": 23,
   "metadata": {},
   "outputs": [
    {
     "name": "stdout",
     "output_type": "stream",
     "text": [
      "{1: 'a', 2: 'b', 3: 'c', 4: 'd', 5: 'e', 6: 'f', 7: 'g', 8: 'h', 9: 'i', 10: 'j', 11: 'k', 12: 'l', 13: 'm', 14: 'n', 15: 'o', 16: 'p', 17: 'q', 18: 'r', 19: 's', 20: 't', 21: 'u', 22: 'v', 23: 'w', 24: 'x', 25: 'y', 26: 'z', 0: '.'}\n"
     ]
    }
   ],
   "source": [
    "chars = sorted(list(set(''.join(words))))\n",
    "stoi = {s:i + 1 for i, s in enumerate(chars)}\n",
    "stoi['.'] = 0\n",
    "itos = {i:s for s, i in stoi.items()}\n",
    "print(itos)"
   ]
  },
  {
   "cell_type": "markdown",
   "metadata": {},
   "source": [
    "### Build dataset"
   ]
  },
  {
   "cell_type": "code",
   "execution_count": 24,
   "metadata": {},
   "outputs": [],
   "source": [
    "block_size = 3\n",
    "X, Y = [], []\n",
    "for w in words:\n",
    "    \n",
    "    context = [0] * block_size\n",
    "    for ch in w + '.':\n",
    "        ix = stoi[ch]\n",
    "        X.append(context.copy())\n",
    "        Y.append(ix)\n",
    "        context = context[1:] + [ix]\n",
    "\n",
    "X = torch.tensor(X)\n",
    "Y = torch.tensor(Y)"
   ]
  },
  {
   "cell_type": "markdown",
   "metadata": {},
   "source": [
    "### Train Test Validation splits"
   ]
  },
  {
   "cell_type": "code",
   "execution_count": 25,
   "metadata": {},
   "outputs": [],
   "source": [
    "def build_dataset(words):\n",
    "    X, Y = [], []\n",
    "    for w in words:\n",
    "        context = [0] * block_size\n",
    "        for ch in w + '.':\n",
    "            ix = stoi[ch]\n",
    "            X.append(context)\n",
    "            Y.append(ix)\n",
    "            context = context[1:] + [ix]\n",
    "    return torch.tensor(X), torch.tensor(Y)\n",
    "\n",
    "import random\n",
    "random.seed(42)\n",
    "random.shuffle(words)\n",
    "\n",
    "# 80% train, 10% validation, 10% test\n",
    "train = words[:int(.8 * len(words))]\n",
    "valid = words[int(.8 * len(words)):int(.9 * len(words))]\n",
    "test = words[int(.9 * len(words)):]\n",
    "\n",
    "X_train, Y_train = build_dataset(train)\n",
    "X_valid, Y_valid = build_dataset(valid)\n",
    "X_test, Y_test = build_dataset(test)"
   ]
  },
  {
   "cell_type": "code",
   "execution_count": 26,
   "metadata": {},
   "outputs": [
    {
     "data": {
      "text/plain": [
       "(torch.Size([182580, 3]), torch.Size([22767, 3]), torch.Size([22799, 3]))"
      ]
     },
     "execution_count": 26,
     "metadata": {},
     "output_type": "execute_result"
    }
   ],
   "source": [
    "X_train.shape, X_valid.shape, X_test.shape"
   ]
  },
  {
   "cell_type": "markdown",
   "metadata": {},
   "source": [
    "###  Compare grads function\n",
    "Check if our gradients calculation is similar to pytorch"
   ]
  },
  {
   "cell_type": "code",
   "execution_count": 27,
   "metadata": {},
   "outputs": [],
   "source": [
    "def compare(s, dt, t):\n",
    "    ex = torch.all(dt == t.grad).item()\n",
    "    app = torch.allclose(dt, t.grad)\n",
    "    maxdiff = (dt - t.grad).abs().max().item()\n",
    "    print(f'{s:15s} exact: {ex} approx: {app} maxdiff: {maxdiff:.1e}')"
   ]
  },
  {
   "cell_type": "markdown",
   "metadata": {},
   "source": [
    "### MLP\n",
    "Adjusting the intialization weights so that the gaussians keep std =~ 1. More details on <a href=\"https://pytorch.org/docs/stable/nn.init.html\"> this link </a>\n",
    "\n"
   ]
  },
  {
   "cell_type": "code",
   "execution_count": 28,
   "metadata": {},
   "outputs": [
    {
     "name": "stdout",
     "output_type": "stream",
     "text": [
      "12297 parameters\n"
     ]
    }
   ],
   "source": [
    "# Embedding matrix\n",
    "n_emb = 10\n",
    "n_hidden = 200\n",
    "\n",
    "g = torch.Generator().manual_seed(2147483647)\n",
    "C = torch.randn((27, n_emb), generator=g)\n",
    "# MLP weights and biases\n",
    "# Layer 1\n",
    "W1 = torch.randn((n_emb*block_size, n_hidden), generator=g) * (5/3)/((n_emb*block_size)**0.5)\n",
    "b1 = torch.randn(n_hidden, generator=g) * 0.01 #OBS: B1 is useless\n",
    "# Layer 2\n",
    "W2 = torch.randn((n_hidden, 27), generator=g) * 0.01\n",
    "b2 = torch.randn(27, generator=g) * 0.0\n",
    "# Batchnorm parameters\n",
    "bn_gain = torch.ones((1, n_hidden))\n",
    "bn_bias = torch.zeros((1, n_hidden))\n",
    "# OBS: Running mean and std are not parameters, they are just tensors\n",
    "# that are updated during training\n",
    "bn_mean_running = torch.zeros((1, n_hidden))\n",
    "bn_std_running = torch.ones((1, n_hidden))\n",
    "\n",
    "params = [C, W1, b1, W2, b2, bn_gain, bn_bias]\n",
    "\n",
    "for p in params:\n",
    "    p.requires_grad = True\n",
    "print(sum(p.nelement() for p in params), \"parameters\")"
   ]
  },
  {
   "cell_type": "markdown",
   "metadata": {},
   "source": [
    "### Forward once"
   ]
  },
  {
   "cell_type": "code",
   "execution_count": 29,
   "metadata": {},
   "outputs": [],
   "source": [
    "batch_size = 32\n",
    "n = batch_size # a shorter variable \n",
    "# construct a minibatch\n",
    "ix = torch.randint(0, X_train.shape[0], (batch_size,), generator=g)\n",
    "Xb, Yb = X_train[ix], Y_train[ix] # batch X,Y"
   ]
  },
  {
   "cell_type": "code",
   "execution_count": 30,
   "metadata": {},
   "outputs": [
    {
     "data": {
      "text/plain": [
       "tensor(3.3014, grad_fn=<NegBackward0>)"
      ]
     },
     "execution_count": 30,
     "metadata": {},
     "output_type": "execute_result"
    }
   ],
   "source": [
    "emb = C[Xb]\n",
    "embcat = emb.view(emb.shape[0], -1)\n",
    "# Lin Layer 1\n",
    "h_pre_bn = (embcat @ W1) + b1\n",
    "# Batchnorm\n",
    "bn_mean_i = (1/batch_size)*h_pre_bn.sum(0, keepdim=True)\n",
    "bn_diff = h_pre_bn - bn_mean_i\n",
    "bn_diff_2 = bn_diff**2\n",
    "bn_var = (1/(n-1))*bn_diff_2.sum(0, keepdim=True)\n",
    "bn_var_inv = (bn_var + 1e-5)**-0.5\n",
    "bn_raw = bn_diff * bn_var_inv\n",
    "h_preact = (bn_gain * bn_raw) + bn_bias\n",
    "# Tanh Activation\n",
    "h = torch.tanh(h_preact)\n",
    "# Lin Layer 2\n",
    "logits = (h@W2) + b2 # output\n",
    "# Loss (cross entropy)\n",
    "logits_maxes = logits.max(axis=1, keepdim=True).values\n",
    "norm_logits  = logits - logits_maxes\n",
    "counts = norm_logits.exp()\n",
    "counts_sum = counts.sum(axis=1, keepdim=True)\n",
    "counts_sum_inv = counts_sum**-1\n",
    "probs = counts * counts_sum_inv\n",
    "logprobs = probs.log()\n",
    "loss = -logprobs[range(n), Yb].mean()\n",
    "\n",
    "# Backward pass with PyTorch\n",
    "for p in params:\n",
    "    p.grad = None\n",
    "for t in [logprobs, probs, counts, counts_sum, counts_sum_inv, # afaik there is no cleaner way\n",
    "          norm_logits, logits_maxes, logits, h, h_preact, bn_raw,\n",
    "         bn_var_inv, bn_var, bn_diff_2, bn_diff, h_pre_bn, bn_mean_i,\n",
    "         embcat, emb]:\n",
    "    t.retain_grad()\n",
    "loss.backward()\n",
    "loss"
   ]
  },
  {
   "cell_type": "markdown",
   "metadata": {},
   "source": [
    "## **PART 1: Backprop through ALL tensors manually**"
   ]
  },
  {
   "cell_type": "code",
   "execution_count": 31,
   "metadata": {},
   "outputs": [
    {
     "data": {
      "text/plain": [
       "(torch.Size([32, 200]), torch.Size([32, 200]), torch.Size([1, 200]))"
      ]
     },
     "execution_count": 31,
     "metadata": {},
     "output_type": "execute_result"
    }
   ],
   "source": [
    "bn_diff.shape, bn_raw.shape, bn_var_inv.shape"
   ]
  },
  {
   "cell_type": "code",
   "execution_count": 32,
   "metadata": {},
   "outputs": [
    {
     "data": {
      "text/plain": [
       "torch.Size([32, 200])"
      ]
     },
     "execution_count": 32,
     "metadata": {},
     "output_type": "execute_result"
    }
   ],
   "source": [
    "bn_diff_2.shape"
   ]
  },
  {
   "cell_type": "code",
   "execution_count": 33,
   "metadata": {},
   "outputs": [
    {
     "data": {
      "text/plain": [
       "(torch.Size([27, 10]), torch.Size([32, 3, 10]))"
      ]
     },
     "execution_count": 33,
     "metadata": {},
     "output_type": "execute_result"
    }
   ],
   "source": [
    "C.shape, emb.shape"
   ]
  },
  {
   "cell_type": "code",
   "execution_count": 34,
   "metadata": {},
   "outputs": [
    {
     "name": "stdout",
     "output_type": "stream",
     "text": [
      "logprobs        exact: True approx: True maxdiff: 0.0e+00\n",
      "probs           exact: True approx: True maxdiff: 0.0e+00\n",
      "counts_sum_inv  exact: True approx: True maxdiff: 0.0e+00\n",
      "counts_sum      exact: True approx: True maxdiff: 0.0e+00\n",
      "counts          exact: True approx: True maxdiff: 0.0e+00\n",
      "norm_logits     exact: True approx: True maxdiff: 0.0e+00\n",
      "logits          exact: True approx: True maxdiff: 0.0e+00\n",
      "logits_maxes    exact: True approx: True maxdiff: 0.0e+00\n",
      "h               exact: True approx: True maxdiff: 0.0e+00\n",
      "W2              exact: True approx: True maxdiff: 0.0e+00\n",
      "b2              exact: True approx: True maxdiff: 0.0e+00\n",
      "h_preact        exact: False approx: True maxdiff: 5.8e-11\n",
      "bn_gain         exact: True approx: True maxdiff: 0.0e+00\n",
      "bn_raw          exact: True approx: True maxdiff: 0.0e+00\n",
      "bn_bias         exact: True approx: True maxdiff: 0.0e+00\n",
      "bn_diff         exact: False approx: False maxdiff: 1.4e-04\n",
      "bn_var_inv      exact: True approx: True maxdiff: 0.0e+00\n",
      "bn_var          exact: True approx: True maxdiff: 0.0e+00\n",
      "bn_diff_2       exact: True approx: True maxdiff: 0.0e+00\n",
      "h_pre_bn        exact: True approx: True maxdiff: 0.0e+00\n",
      "bn_mean_i       exact: True approx: True maxdiff: 0.0e+00\n",
      "embcat          exact: True approx: True maxdiff: 0.0e+00\n",
      "W1              exact: True approx: True maxdiff: 0.0e+00\n",
      "b1              exact: True approx: True maxdiff: 0.0e+00\n",
      "emb             exact: True approx: True maxdiff: 0.0e+00\n",
      "C               exact: True approx: True maxdiff: 0.0e+00\n"
     ]
    }
   ],
   "source": [
    "# LogProbs\n",
    "d_log_probs = torch.zeros_like(logprobs)\n",
    "d_log_probs[range(n), Yb] = -1/n # dL/d(logprobs)\n",
    "\n",
    "# Probs\n",
    "d_probs = (1.0/probs) * d_log_probs\n",
    "\n",
    "d_counts_sum_inv = (d_probs * counts).sum(axis=1, keepdim=True)\n",
    "d_counts = d_probs * counts_sum_inv\n",
    "d_counts_sum = (-counts_sum**-2) * d_counts_sum_inv\n",
    "d_counts += torch.ones(counts.shape) * d_counts_sum\n",
    "d_norm_logits = d_counts*norm_logits.exp()\n",
    "d_logits = d_norm_logits.clone()\n",
    "d_logits_maxes = -d_logits.sum(axis=1, keepdim=True)\n",
    "d_logits += d_logits_maxes * (logits == logits_maxes).float()\n",
    "d_h = d_logits @ W2.T\n",
    "d_W2 = h.T @ d_logits\n",
    "d_b2 = d_logits.sum(0)\n",
    "d_h_preact = (1.0 - h**2) * d_h\n",
    "# use exact grad here\n",
    "#'cause there's a slight difference between the two methods\n",
    "d_bn_gain = (bn_raw * h_preact.grad).sum(0, keepdim=True)\n",
    "d_bn_raw = (bn_gain * h_preact.grad)\n",
    "d_bn_bias = h_preact.grad.sum(0, keepdim=True)\n",
    "d_bn_diff = bn_var_inv * d_bn_raw\n",
    "d_bn_var_inv = (bn_diff * d_bn_raw).sum(0, keepdim=True)\n",
    "d_bn_var = (-0.5 * ((bn_var + 1e-5)**-1.5) * d_bn_var_inv)\n",
    "d_bn_diff_2 = (1.0/(n-1)) * d_bn_var\n",
    "d_bn_diff += (2 * bn_diff) * d_bn_diff_2\n",
    "d_h_pre_bn = d_bn_diff\n",
    "d_bn_mean_i = -d_bn_diff.sum(0, keepdim=True)\n",
    "d_h_pre_bn += d_bn_mean_i*(1/batch_size)*torch.ones_like(h_pre_bn)\n",
    "d_embcat = d_h_pre_bn @ W1.T\n",
    "d_W1 = embcat.T @ d_h_pre_bn\n",
    "d_b1 = d_h_pre_bn.sum(0)\n",
    "d_emb = d_embcat.view(emb.shape)\n",
    "d_C = torch.zeros_like(C)\n",
    "for i in range(Xb.shape[0]):\n",
    "  for j in range(Xb.shape[1]):\n",
    "    idx = Xb[i,j]\n",
    "    d_C[idx] += d_emb[i,j]\n",
    "\n",
    "\n",
    "# Compare gradients\n",
    "compare(\"logprobs\", d_log_probs, logprobs)\n",
    "compare(\"probs\", d_probs, probs)\n",
    "compare(\"counts_sum_inv\", d_counts_sum_inv, counts_sum_inv)\n",
    "compare(\"counts_sum\", d_counts_sum, counts_sum)\n",
    "compare(\"counts\", d_counts, counts)\n",
    "compare(\"norm_logits\", d_norm_logits, norm_logits)\n",
    "compare(\"logits\", d_logits, logits)\n",
    "compare(\"logits_maxes\", d_logits_maxes, logits_maxes)\n",
    "compare(\"h\", d_h, h)\n",
    "compare(\"W2\", d_W2, W2)\n",
    "compare(\"b2\", d_b2, b2)\n",
    "compare(\"h_preact\", d_h_preact, h_preact)\n",
    "compare(\"bn_gain\", d_bn_gain, bn_gain)\n",
    "compare(\"bn_raw\", d_bn_raw, bn_raw)\n",
    "compare(\"bn_bias\", d_bn_bias, bn_bias)\n",
    "compare(\"bn_diff\", d_bn_diff, bn_diff)\n",
    "compare(\"bn_var_inv\", d_bn_var_inv, bn_var_inv)\n",
    "compare(\"bn_var\", d_bn_var, bn_var)\n",
    "compare(\"bn_diff_2\", d_bn_diff_2, bn_diff_2)\n",
    "compare(\"h_pre_bn\", d_h_pre_bn, h_pre_bn)\n",
    "compare(\"bn_mean_i\", d_bn_mean_i, bn_mean_i)\n",
    "compare(\"embcat\", d_embcat, embcat)\n",
    "compare(\"W1\", d_W1, W1)\n",
    "compare(\"b1\", d_b1, b1)\n",
    "compare(\"emb\", d_emb, emb)\n",
    "compare(\"C\", d_C, C)"
   ]
  },
  {
   "cell_type": "markdown",
   "metadata": {},
   "source": [
    "## **Exercise 2: backprop through cross_entropy but all in one go**"
   ]
  },
  {
   "cell_type": "code",
   "execution_count": 35,
   "metadata": {},
   "outputs": [
    {
     "name": "stdout",
     "output_type": "stream",
     "text": [
      "3.301448106765747 diff: -2.384185791015625e-07\n"
     ]
    }
   ],
   "source": [
    "loss_fast = F.cross_entropy(logits, Yb)\n",
    "print(loss_fast.item(), 'diff:', (loss_fast - loss).item())"
   ]
  },
  {
   "cell_type": "code",
   "execution_count": 36,
   "metadata": {},
   "outputs": [
    {
     "name": "stdout",
     "output_type": "stream",
     "text": [
      "logits          exact: False approx: True maxdiff: 6.9e-09\n"
     ]
    }
   ],
   "source": [
    "d_logits = F.softmax(logits, 1)\n",
    "d_logits[range(n), Yb] -= 1\n",
    "d_logits /= n\n",
    "\n",
    "compare(\"logits\", d_logits, logits)"
   ]
  },
  {
   "cell_type": "code",
   "execution_count": 37,
   "metadata": {},
   "outputs": [
    {
     "data": {
      "text/plain": [
       "tensor([ 0.0373,  0.0335,  0.0314,  0.0376,  0.0439, -0.9582,  0.0406,  0.0351,\n",
       "         0.0386,  0.0335,  0.0340,  0.0332,  0.0371,  0.0434,  0.0329,  0.0307,\n",
       "         0.0416,  0.0359,  0.0348,  0.0422,  0.0403,  0.0307,  0.0467,  0.0447,\n",
       "         0.0335,  0.0362,  0.0289], grad_fn=<MulBackward0>)"
      ]
     },
     "execution_count": 37,
     "metadata": {},
     "output_type": "execute_result"
    }
   ],
   "source": [
    "d_logits[0] * n"
   ]
  },
  {
   "cell_type": "markdown",
   "metadata": {},
   "source": [
    "## **Exercise 3: backprop straightforward through batchnorm**"
   ]
  },
  {
   "cell_type": "code",
   "execution_count": 38,
   "metadata": {},
   "outputs": [
    {
     "name": "stdout",
     "output_type": "stream",
     "text": [
      "max diff: tensor(4.7684e-07, grad_fn=<MaxBackward1>)\n"
     ]
    }
   ],
   "source": [
    "hpreact_fast = bn_gain * (h_pre_bn - h_pre_bn.mean(0, keepdim=True)) / torch.sqrt(h_pre_bn.var(0, keepdim=True, unbiased=True) + 1e-5) + bn_bias\n",
    "print('max diff:', (hpreact_fast - h_preact).abs().max())"
   ]
  },
  {
   "cell_type": "markdown",
   "metadata": {},
   "source": [
    "## **Exercise 4: Manually optimize the NN without loss.backward()**"
   ]
  },
  {
   "cell_type": "code",
   "execution_count": 39,
   "metadata": {},
   "outputs": [
    {
     "name": "stdout",
     "output_type": "stream",
     "text": [
      "      0/ 100000: 3.3100\n",
      "  10000/ 100000: 2.3046\n",
      "  20000/ 100000: 2.1078\n",
      "  30000/ 100000: 2.3260\n",
      "  40000/ 100000: 2.5696\n",
      "  50000/ 100000: 2.3081\n",
      "  60000/ 100000: 2.2972\n",
      "  70000/ 100000: 1.8720\n",
      "  80000/ 100000: 2.1814\n",
      "  90000/ 100000: 2.2426\n"
     ]
    }
   ],
   "source": [
    "batch_size = 32\n",
    "n = batch_size # a shorter variable \n",
    "n_steps = 100000\n",
    "lossi = []\n",
    "with torch.no_grad():\n",
    "    for i in range(n_steps):\n",
    "        # Sample the batch\n",
    "        ix = torch.randint(0, X_train.shape[0], (batch_size,), generator=g)\n",
    "        Xb, Yb = X_train[ix], Y_train[ix] # batch X,Y\n",
    "        # take the embeddings\n",
    "        emb = C[Xb]\n",
    "        embcat = emb.view(emb.shape[0], -1)\n",
    "        # Lin Layer 1\n",
    "        h_pre_bn = (embcat @ W1) + b1\n",
    "        # Batchnorm\n",
    "        bn_mean = h_pre_bn.mean(0, keepdim=True)\n",
    "        bn_var = h_pre_bn.var(0, keepdim=True, unbiased=True)\n",
    "        bn_var_inv = (bn_var + 1e-5)**-0.5\n",
    "        bn_raw = (h_pre_bn - bn_mean) * bn_var_inv\n",
    "        h_preact = bn_gain * bn_raw + bn_bias\n",
    "        # Tanh Activation\n",
    "        h = torch.tanh(h_preact)\n",
    "        # Lin Layer 2\n",
    "        logits = (h@W2) + b2 # output\n",
    "        # Loss (cross entropy)\n",
    "        loss = F.cross_entropy(logits, Yb)\n",
    "\n",
    "        # Backward pass\n",
    "        for p in params:\n",
    "            p.grad = None\n",
    "\n",
    "        # Our own backprop\n",
    "        d_logits = F.softmax(logits, 1)\n",
    "        d_logits[range(n), Yb] -= 1\n",
    "        d_logits /= n\n",
    "        # Layer 2 backprop\n",
    "        d_h = d_logits @ W2.T\n",
    "        d_W2 = h.T @ d_logits\n",
    "        d_b2 = d_logits.sum(0)\n",
    "        # Tanh activation backprop\n",
    "        d_h_preact = (1.0 - h**2) * d_h\n",
    "        # Batch Normalization backprop\n",
    "        d_bn_gain = (bn_raw * d_h_preact).sum(0, keepdim=True)\n",
    "        d_bn_bias = d_h_preact.sum(0, keepdim=True)\n",
    "        d_h_pre_bn = bn_gain*bn_var_inv/n * (n*d_h_preact - d_h_preact.sum(0) - n/(n-1)*bn_raw*(d_h_preact*bn_raw).sum(0))\n",
    "        # Layer 1 backprop\n",
    "        d_embcat = d_h_pre_bn @ W1.T\n",
    "        d_W1 = embcat.T @ d_h_pre_bn\n",
    "        d_b1 = d_h_pre_bn.sum(0)\n",
    "        # Embedding backprop\n",
    "        d_emb = d_embcat.view(emb.shape)\n",
    "        d_C = torch.zeros_like(C)\n",
    "        for k in range(Xb.shape[0]):\n",
    "            for j in range(Xb.shape[1]):\n",
    "                ix = Xb[k,j]\n",
    "                d_C[ix] += d_emb[k,j]\n",
    "        grads = [d_C, d_W1, d_b1, d_W2, d_b2, d_bn_gain, d_bn_bias]\n",
    "        # End of backprop\n",
    "\n",
    "        # Update the parameters\n",
    "        lr = 0.1 if i < 100000 else 0.01 # Decay the learning rate\n",
    "        for p, grad in zip(params, grads):\n",
    "            p.data += -lr * grad\n",
    "\n",
    "        # Follow the loss\n",
    "        if i % 10000 == 0:\n",
    "            print(f'{i:7d}/{n_steps:7d}: {loss.item():.4f}')\n",
    "        lossi.append(loss.log10().item())"
   ]
  },
  {
   "cell_type": "markdown",
   "metadata": {},
   "source": [
    "### Check how gaussians behave through forward pass"
   ]
  },
  {
   "cell_type": "code",
   "execution_count": null,
   "metadata": {},
   "outputs": [
    {
     "name": "stdout",
     "output_type": "stream",
     "text": [
      "tensor(0.0015) tensor(0.9988)\n",
      "tensor(-0.0003) tensor(1.0039)\n"
     ]
    },
    {
     "data": {
      "text/plain": [
       "(array([1.0000e+00, 1.0000e+00, 0.0000e+00, 1.0000e+00, 0.0000e+00,\n",
       "        2.0000e+00, 5.0000e+00, 5.0000e+00, 4.0000e+00, 1.2000e+01,\n",
       "        1.4000e+01, 1.5000e+01, 2.2000e+01, 2.6000e+01, 6.0000e+01,\n",
       "        4.0000e+01, 6.3000e+01, 1.2300e+02, 1.1500e+02, 1.7700e+02,\n",
       "        2.3100e+02, 2.7000e+02, 3.8100e+02, 5.1000e+02, 6.5100e+02,\n",
       "        8.8100e+02, 1.0740e+03, 1.3800e+03, 1.8270e+03, 2.3650e+03,\n",
       "        2.9630e+03, 3.7540e+03, 4.8430e+03, 5.9940e+03, 7.3540e+03,\n",
       "        9.0780e+03, 1.1094e+04, 1.3790e+04, 1.6297e+04, 1.9574e+04,\n",
       "        2.3173e+04, 2.7020e+04, 3.1414e+04, 3.5568e+04, 3.9684e+04,\n",
       "        4.3981e+04, 4.7068e+04, 5.0580e+04, 5.2541e+04, 5.3410e+04,\n",
       "        5.3162e+04, 5.1613e+04, 4.9538e+04, 4.6473e+04, 4.2243e+04,\n",
       "        3.8207e+04, 3.3935e+04, 3.0185e+04, 2.5537e+04, 2.1554e+04,\n",
       "        1.8601e+04, 1.5425e+04, 1.2916e+04, 1.0420e+04, 8.4920e+03,\n",
       "        7.0470e+03, 5.5810e+03, 4.3670e+03, 3.4680e+03, 2.6690e+03,\n",
       "        2.1200e+03, 1.5740e+03, 1.3080e+03, 9.9800e+02, 7.5700e+02,\n",
       "        5.6000e+02, 4.4600e+02, 3.2800e+02, 2.6400e+02, 1.9600e+02,\n",
       "        1.5700e+02, 1.1000e+02, 7.9000e+01, 5.4000e+01, 4.4000e+01,\n",
       "        3.6000e+01, 2.6000e+01, 1.8000e+01, 1.4000e+01, 1.2000e+01,\n",
       "        3.0000e+00, 7.0000e+00, 9.0000e+00, 3.0000e+00, 2.0000e+00,\n",
       "        4.0000e+00, 0.0000e+00, 0.0000e+00, 1.0000e+00, 1.0000e+00]),\n",
       " array([-6.17278624, -6.04890013, -5.92501402, -5.80112743, -5.67724133,\n",
       "        -5.55335522, -5.42946911, -5.305583  , -5.18169641, -5.05781031,\n",
       "        -4.9339242 , -4.81003809, -4.6861515 , -4.5622654 , -4.43837929,\n",
       "        -4.31449318, -4.19060707, -4.06672049, -3.94283438, -3.81894827,\n",
       "        -3.69506216, -3.57117581, -3.44728971, -3.32340336, -3.19951725,\n",
       "        -3.07563114, -2.95174479, -2.82785869, -2.70397234, -2.58008623,\n",
       "        -2.45619988, -2.33231378, -2.20842767, -2.08454132, -1.96065509,\n",
       "        -1.83676898, -1.71288276, -1.58899653, -1.4651103 , -1.34122407,\n",
       "        -1.21733785, -1.09345174, -0.96956545, -0.84567928, -0.72179306,\n",
       "        -0.59790683, -0.47402063, -0.35013443, -0.22624822, -0.10236201,\n",
       "         0.02152419,  0.1454104 ,  0.26929662,  0.39318281,  0.51706904,\n",
       "         0.64095521,  0.76484144,  0.88872766,  1.01261389,  1.13650012,\n",
       "         1.26038623,  1.38427246,  1.50815868,  1.63204491,  1.75593114,\n",
       "         1.87981737,  2.00370359,  2.1275897 ,  2.25147605,  2.37536216,\n",
       "         2.49924827,  2.62313461,  2.74702072,  2.87090707,  2.99479318,\n",
       "         3.11867952,  3.24256563,  3.36645174,  3.49033809,  3.6142242 ,\n",
       "         3.73811054,  3.86199665,  3.98588276,  4.10976887,  4.23365545,\n",
       "         4.35754156,  4.48142767,  4.60531378,  4.72919989,  4.85308647,\n",
       "         4.97697258,  5.10085869,  5.2247448 ,  5.34863138,  5.47251749,\n",
       "         5.5964036 ,  5.72028971,  5.84417582,  5.9680624 ,  6.09194851,\n",
       "         6.21583462]),\n",
       " <BarContainer object of 100 artists>)"
      ]
     },
     "metadata": {},
     "output_type": "display_data"
    },
    {
     "data": {
      "image/png": "[encoded data removed]",
      "text/plain": [
       "<Figure size 1200x600 with 2 Axes>"
      ]
     },
     "metadata": {},
     "output_type": "display_data"
    }
   ],
   "source": [
    "x = torch.randn(5000, 10)\n",
    "w = torch.randn(10, 200) / 10**0.5\n",
    "y = x @ w\n",
    "print(x.mean(), x.std())\n",
    "print(y.mean(), y.std())\n",
    "\n",
    "plt.figure(figsize=(12, 6))\n",
    "plt.subplot(121)\n",
    "plt.hist(x.view(-1), bins=100)\n",
    "plt.subplot(122)\n",
    "plt.hist(y.view(-1), bins=100)"
   ]
  },
  {
   "cell_type": "markdown",
   "metadata": {},
   "source": [
    "### Training the MLP"
   ]
  },
  {
   "cell_type": "code",
   "execution_count": null,
   "metadata": {},
   "outputs": [
    {
     "name": "stdout",
     "output_type": "stream",
     "text": [
      "      0/ 100000 Loss: 3.3031\n",
      "  10000/ 100000 Loss: 2.2790\n",
      "  20000/ 100000 Loss: 2.3995\n",
      "  30000/ 100000 Loss: 2.3055\n",
      "  40000/ 100000 Loss: 2.3427\n",
      "  50000/ 100000 Loss: 2.2162\n",
      "  60000/ 100000 Loss: 2.4212\n",
      "  70000/ 100000 Loss: 1.7287\n",
      "  80000/ 100000 Loss: 2.2004\n",
      "  90000/ 100000 Loss: 2.0421\n"
     ]
    }
   ],
   "source": [
    "lossi = []\n",
    "lri = []\n",
    "stepi = []\n",
    "losses = []\n",
    "n_steps = 100000\n",
    "batch_size = 32\n",
    "for i in range(n_steps):\n",
    "    # Minibatch Creation\n",
    "    ix = torch.randint(0, X_train.shape[0], (batch_size,))\n",
    "    Xb, Yb = X_train[ix], Y_train[ix]\n",
    "    \n",
    "    # Forward\n",
    "    emb = C[Xb] #Take the embeddings\n",
    "    embcat = emb.view(emb.shape[0], -1) #concatenate the embeddings (flatten)\n",
    "    h_preact = (embcat @ W1) + b1 # hidden pre-activation\n",
    "    bn_mean_i = h_preact.mean(0, keepdims=True)\n",
    "    bn_std_i = h_preact.std(0, keepdims=True)\n",
    "    h_preact = (h_preact - bn_mean_i) / bn_std_i # batch normalization\n",
    "    h_preact = (h_preact * bn_gain) + bn_bias # scale and shift\n",
    "    \n",
    "    with torch.no_grad():\n",
    "        bn_mean_running = 0.999 * bn_mean_running + 0.001 * bn_mean_i\n",
    "        bn_std_running = 0.999 * bn_std_running + 0.001 * bn_std_i\n",
    "    \n",
    "    h = torch.tanh(h_preact) # hidden activation\n",
    "    logits = (h @ W2) + b2 #  output layer (numerical values)\n",
    "    # Neg Log lokelihood\n",
    "    loss = F.cross_entropy(logits, Yb)\n",
    "    \n",
    "    #Backward\n",
    "    for p in params:\n",
    "        p.grad = None\n",
    "    loss.backward() \n",
    "    \n",
    "    # update params\n",
    "    lr = 0.1 if i < int(.5*n_steps) else 0.01\n",
    "    # lr = lri[i]\n",
    "    for p in params:\n",
    "        p.data += -p.grad * lr\n",
    "    # lossi.append(loss.item())\n",
    "    # lri.append(lr)\n",
    "    \n",
    "    # track metrics\n",
    "    if i%10000 == 0:\n",
    "        print(f'{i:7d}/{n_steps:7d} Loss: {loss.item():.4f}')\n",
    "    stepi.append(i)\n",
    "    losses.append(loss.log10().item())\n",
    "    #break"
   ]
  },
  {
   "cell_type": "markdown",
   "metadata": {},
   "source": [
    "## Mean and std at the end"
   ]
  },
  {
   "cell_type": "code",
   "execution_count": null,
   "metadata": {},
   "outputs": [],
   "source": [
    "with torch.no_grad():\n",
    "    emb = C[X_train]\n",
    "    embcat = emb.view(emb.shape[0], -1)\n",
    "    h_preact = (embcat @ W1) + b1\n",
    "    # mean and std of the pre-activation\n",
    "    bn_mean = h_preact.mean(0, keepdims=True)\n",
    "    bn_std = h_preact.std(0, keepdims=True)"
   ]
  },
  {
   "cell_type": "code",
   "execution_count": null,
   "metadata": {},
   "outputs": [
    {
     "data": {
      "text/plain": [
       "(tensor([[-5.9548e-03,  5.7364e-04, -1.2883e-02,  1.3322e-02, -3.1403e-03,\n",
       "          -9.9706e-03,  4.3741e-03,  4.5461e-03, -2.9509e-04, -1.8848e-03,\n",
       "           4.7635e-03,  1.6488e-03,  4.9937e-03,  4.7287e-03, -1.0324e-03,\n",
       "           1.6215e-04, -9.7117e-03, -8.5670e-03,  6.0941e-03,  9.6607e-03,\n",
       "           8.9467e-03,  5.5776e-03,  8.7173e-03,  5.3463e-03, -9.7471e-03,\n",
       "          -6.8569e-03, -5.6993e-03, -6.6200e-03, -1.0496e-02, -9.4970e-03,\n",
       "          -7.6787e-03, -4.7698e-03, -9.1848e-03,  1.0433e-02,  8.0186e-03,\n",
       "          -3.4928e-05, -1.0386e-03,  3.9042e-03,  1.2398e-03, -1.2679e-03,\n",
       "           5.0466e-03, -2.5850e-03,  1.9603e-02,  1.0204e-02, -4.7762e-03,\n",
       "          -1.0173e-02, -1.8486e-03,  1.1358e-03,  7.9529e-03,  4.5261e-03,\n",
       "           9.0418e-03, -3.1364e-04, -3.1092e-03,  9.4927e-03, -6.0205e-03,\n",
       "           1.7527e-03, -1.1096e-02,  8.9425e-03,  2.4262e-03, -1.8895e-03,\n",
       "          -3.3842e-03,  7.5495e-03, -8.9301e-04, -1.0327e-02,  5.1459e-03,\n",
       "          -1.8097e-05, -5.0593e-03,  6.7605e-03,  1.2744e-02, -1.3568e-04,\n",
       "          -7.0797e-03, -1.4083e-02,  1.6415e-03,  2.2415e-03,  9.1718e-03,\n",
       "           8.1953e-03, -1.6030e-03,  7.8049e-03, -1.0775e-02,  7.8815e-04,\n",
       "           6.5239e-03,  1.3300e-03,  1.0531e-02,  1.9602e-03,  5.6688e-03,\n",
       "           1.5593e-02, -9.9717e-03, -1.6845e-03, -1.4189e-04, -1.3028e-03,\n",
       "           9.2757e-03, -5.3787e-04,  6.1955e-03,  5.4092e-03, -7.4801e-03,\n",
       "          -5.9465e-03,  3.5744e-03,  9.2092e-03,  2.9629e-04, -1.3133e-02,\n",
       "           1.0855e-02,  1.4562e-04,  2.2049e-03,  1.7700e-02, -1.1402e-03,\n",
       "          -1.2240e-03, -2.4775e-03, -6.4864e-03, -1.5142e-02, -8.6740e-03,\n",
       "          -2.8062e-03,  6.3568e-04,  2.7929e-03, -2.4205e-02,  8.0057e-03,\n",
       "          -6.0888e-03,  1.4978e-03, -1.9984e-03, -7.1249e-03,  4.8443e-03,\n",
       "          -5.1006e-03, -1.5138e-03,  6.4756e-03, -3.7326e-03, -8.3587e-04,\n",
       "           7.3230e-03, -1.7919e-03, -6.8428e-03, -6.5907e-03, -5.8565e-03,\n",
       "           6.8795e-03, -1.1771e-02, -2.9272e-03, -8.2535e-03,  3.2732e-03,\n",
       "          -5.1343e-03, -2.3606e-03, -8.8434e-03,  5.0636e-03, -1.8293e-03,\n",
       "          -3.8518e-03, -7.4406e-03, -6.8082e-03, -2.7165e-03, -3.6025e-03,\n",
       "          -7.7372e-03, -8.7273e-04, -1.3347e-02,  3.9328e-03, -1.8915e-03,\n",
       "           4.5803e-04,  2.6730e-03, -6.0827e-03, -7.2830e-03, -2.1631e-02,\n",
       "          -1.0907e-02,  1.1320e-02, -1.2247e-04,  7.1438e-03, -5.1339e-03,\n",
       "           9.1629e-03,  4.5692e-03, -9.3159e-03,  5.0306e-03,  5.2934e-03,\n",
       "          -1.4487e-03, -2.0155e-03,  8.1351e-03, -1.4558e-03, -8.5738e-03,\n",
       "          -3.4654e-03, -1.5997e-03, -2.1559e-03, -7.7595e-03, -7.1950e-03,\n",
       "           4.8147e-03, -1.5700e-02, -1.1022e-02, -2.0508e-03,  1.4122e-03,\n",
       "           1.7837e-03,  1.3665e-02, -3.5215e-03, -1.1072e-02, -2.7790e-03,\n",
       "           3.9208e-03, -1.0237e-03, -4.1668e-03,  5.9073e-03,  5.4160e-03,\n",
       "           1.0444e-02,  9.0176e-03,  2.9474e-03,  1.1830e-02, -8.6961e-03,\n",
       "           4.6500e-03, -3.3894e-03, -4.8369e-04,  1.2430e-03,  2.5282e-03]]),\n",
       " tensor([[ 0.0108,  0.0201,  0.0098,  0.0229,  0.0178,  0.0186,  0.0114,  0.0117,\n",
       "           0.0066,  0.0071,  0.0076,  0.0114,  0.0150,  0.0181,  0.0075,  0.0129,\n",
       "           0.0087,  0.0170,  0.0137,  0.0107,  0.0078,  0.0101,  0.0101,  0.0107,\n",
       "           0.0061,  0.0131,  0.0121,  0.0056,  0.0204,  0.0165,  0.0061,  0.0233,\n",
       "           0.0237,  0.0105,  0.0149,  0.0019,  0.0076,  0.0155,  0.0125,  0.0106,\n",
       "           0.0112,  0.0107,  0.0149,  0.0021,  0.0159,  0.0081,  0.0130,  0.0081,\n",
       "           0.0231,  0.0056,  0.0219,  0.0094,  0.0090,  0.0193,  0.0111,  0.0114,\n",
       "           0.0118,  0.0193,  0.0097,  0.0211,  0.0087,  0.0046,  0.0037,  0.0038,\n",
       "           0.0076,  0.0123,  0.0121,  0.0160,  0.0096,  0.0057,  0.0076,  0.0133,\n",
       "           0.0107,  0.0105,  0.0183,  0.0030,  0.0182,  0.0144,  0.0165,  0.0142,\n",
       "           0.0143,  0.0027,  0.0053,  0.0161,  0.0152,  0.0025,  0.0143,  0.0089,\n",
       "           0.0160,  0.0093,  0.0079,  0.0190,  0.0120,  0.0110,  0.0084,  0.0225,\n",
       "           0.0123,  0.0054,  0.0055,  0.0142, -0.0023,  0.0118,  0.0056,  0.0138,\n",
       "           0.0028,  0.0168,  0.0106,  0.0077,  0.0102,  0.0198,  0.0088,  0.0071,\n",
       "           0.0088,  0.0141,  0.0104,  0.0117,  0.0086,  0.0083,  0.0175,  0.0142,\n",
       "           0.0083,  0.0188,  0.0136,  0.0160,  0.0089,  0.0062,  0.0136,  0.0215,\n",
       "           0.0126,  0.0103,  0.0045,  0.0080,  0.0100,  0.0185,  0.0117,  0.0079,\n",
       "           0.0171,  0.0186,  0.0079, -0.0014,  0.0130,  0.0099,  0.0070,  0.0114,\n",
       "           0.0138,  0.0293,  0.0143,  0.0269,  0.0194,  0.0177,  0.0164,  0.0168,\n",
       "           0.0176,  0.0119,  0.0047,  0.0106,  0.0129,  0.0060,  0.0153,  0.0124,\n",
       "           0.0178,  0.0113,  0.0087,  0.0114,  0.0162,  0.0038,  0.0078,  0.0170,\n",
       "           0.0131,  0.0075,  0.0162,  0.0127,  0.0143,  0.0154,  0.0211,  0.0106,\n",
       "           0.0153,  0.0129,  0.0107,  0.0122,  0.0071,  0.0197,  0.0086,  0.0083,\n",
       "           0.0136,  0.0167,  0.0111,  0.0163,  0.0139,  0.0099,  0.0204,  0.0103,\n",
       "           0.0184,  0.0069,  0.0137,  0.0170,  0.0073,  0.0128,  0.0234,  0.0147]]))"
      ]
     },
     "metadata": {},
     "output_type": "display_data"
    }
   ],
   "source": [
    "bn_mean - bn_mean_running, bn_std - bn_std_running"
   ]
  },
  {
   "cell_type": "markdown",
   "metadata": {},
   "source": [
    "## Check Losses"
   ]
  },
  {
   "cell_type": "code",
   "execution_count": null,
   "metadata": {},
   "outputs": [
    {
     "name": "stdout",
     "output_type": "stream",
     "text": [
      "train 2.080108165740967\n",
      "valid 2.114428997039795\n",
      "test 2.117600440979004\n"
     ]
    }
   ],
   "source": [
    "@torch.no_grad()\n",
    "def split_loss(split):\n",
    "    x,y = {\n",
    "        'train': (X_train, Y_train),\n",
    "        'valid': (X_valid, Y_valid),\n",
    "        'test': (X_test, Y_test)\n",
    "    }[split]\n",
    "    emb = C[x]\n",
    "    embcat = emb.view(emb.shape[0], -1)\n",
    "    h_preact = (embcat @ W1) + b1\n",
    "    h_preact = (h_preact - bn_mean_running) / bn_std_running\n",
    "    h_preact = (h_preact * bn_gain) + bn_bias\n",
    "    h = torch.tanh(h_preact)\n",
    "    logits = (h @ W2) + b2\n",
    "    loss = F.cross_entropy(logits, y)\n",
    "    print(split, loss.item())\n",
    "    \n",
    "split_loss('train')\n",
    "split_loss('valid')\n",
    "split_loss('test') "
   ]
  },
  {
   "cell_type": "markdown",
   "metadata": {},
   "source": [
    "## Visualize Losses"
   ]
  },
  {
   "cell_type": "code",
   "execution_count": null,
   "metadata": {},
   "outputs": [
    {
     "data": {
      "text/plain": [
       "Text(0, 0.5, 'Loss')"
      ]
     },
     "metadata": {},
     "output_type": "display_data"
    },
    {
     "data": {
      "image/png": "[encoded data removed]",
      "text/plain": [
       "<Figure size 640x480 with 1 Axes>"
      ]
     },
     "metadata": {},
     "output_type": "display_data"
    }
   ],
   "source": [
    "plt.plot(stepi, losses)\n",
    "plt.title(\"Step X Loss\")\n",
    "plt.xlabel(\"Step\")\n",
    "plt.ylabel(\"Loss\")"
   ]
  },
  {
   "cell_type": "code",
   "execution_count": null,
   "metadata": {},
   "outputs": [],
   "source": [
    "# plt.subplots(1, 2, figsize=(10, 5))\n",
    "# plt.subplot(1, 2, 1)\n",
    "# plt.plot(lri, lossi)\n",
    "# plt.title(\"Learning Rate X Loss\")\n",
    "# plt.xlabel(\"Learning Rate\")\n",
    "# plt.ylabel(\"Loss\")\n",
    "# plt.subplot(1, 2, 2)\n",
    "# plt.plot(lre, lossi)\n",
    "# plt.title(\"Exp Learning Rate X Loss\")\n",
    "# plt.xlabel(\"Exp Learning Rate\")\n",
    "# plt.ylabel(\"Loss\")\n"
   ]
  },
  {
   "cell_type": "markdown",
   "metadata": {},
   "source": [
    "## Visualize embeddings"
   ]
  },
  {
   "cell_type": "code",
   "execution_count": null,
   "metadata": {},
   "outputs": [
    {
     "data": {
      "text/plain": [
       "tensor([ 0.0147,  0.0625, -0.0673,  0.0812,  0.0327, -0.0849,  0.0482,  0.0849,\n",
       "         0.0116,  0.0620,  0.0408,  0.0190,  0.0013, -0.0472,  0.0286,  0.0121,\n",
       "         0.1128,  0.0411,  0.0101, -0.0239, -0.0531,  0.0226, -0.1596, -0.0011,\n",
       "         0.0309, -0.0318,  0.0730], grad_fn=<SelectBackward0>)"
      ]
     },
     "metadata": {},
     "output_type": "display_data"
    }
   ],
   "source": [
    "C[:, 1]"
   ]
  },
  {
   "cell_type": "code",
   "execution_count": null,
   "metadata": {},
   "outputs": [
    {
     "data": {
      "image/png": "[encoded data removed]",
      "text/plain": [
       "<Figure size 640x480 with 1 Axes>"
      ]
     },
     "metadata": {},
     "output_type": "display_data"
    }
   ],
   "source": [
    "# plt.figure(figsize=(8, 8))\n",
    "plt.scatter(C[:, 0].data, C[:, 1].data, s=200)\n",
    "for i in range(C.shape[0]):\n",
    "    plt.text(C[i, 0].item(), C[i, 1].item(), itos[i], fontsize=12, ha=\"center\", va=\"center\", color=\"white\")\n",
    "plt.grid('minor')"
   ]
  },
  {
   "cell_type": "markdown",
   "metadata": {},
   "source": [
    "## Sampling from the model"
   ]
  },
  {
   "cell_type": "code",
   "execution_count": null,
   "metadata": {},
   "outputs": [
    {
     "name": "stdout",
     "output_type": "stream",
     "text": [
      "rah.\n",
      "janariel.\n",
      "daenesa.\n",
      "charylyn.\n",
      "nah.\n",
      "jayce.\n",
      "demonder.\n",
      "cord.\n",
      "ever.\n",
      "heileanebertessin.\n",
      "semi.\n",
      "farah.\n",
      "juna.\n",
      "oveah.\n",
      "suec.\n",
      "shityani.\n",
      "sos.\n",
      "gaviholmwe.\n",
      "nalexyn.\n",
      "mayah.\n"
     ]
    }
   ],
   "source": [
    "for _ in range(20):\n",
    "    out = []\n",
    "    context = [0]*block_size\n",
    "    with torch.no_grad():\n",
    "        while True:\n",
    "            emb = C[torch.tensor([context])]\n",
    "            h_preact = emb.view(1, -1) @ W1 + b1\n",
    "            h_preact = (h_preact - bn_mean) / bn_std\n",
    "            h_preact = h_preact * bn_gain + bn_bias\n",
    "            h = torch.tanh(h_preact)\n",
    "            logits = h @ W2 + b2\n",
    "            probs = F.softmax(logits, dim=1)\n",
    "            ix = torch.multinomial(probs, 1).item()\n",
    "            context = context[1:] + [ix]\n",
    "            out.append(ix)\n",
    "            if ix == 0: break\n",
    "        print(''.join([itos[i] for i in out]))"
   ]
  },
  {
   "cell_type": "code",
   "execution_count": null,
   "metadata": {},
   "outputs": [],
   "source": []
  }
 ],
 "metadata": {
  "kernelspec": {
   "display_name": "nn_venv",
   "language": "python",
   "name": "python3"
  },
  "language_info": {
   "codemirror_mode": {
    "name": "ipython",
    "version": 3
   },
   "file_extension": ".py",
   "mimetype": "text/x-python",
   "name": "python",
   "nbconvert_exporter": "python",
   "pygments_lexer": "ipython3",
   "version": "3.11.11"
  }
 },
 "nbformat": 4,
 "nbformat_minor": 2
}
