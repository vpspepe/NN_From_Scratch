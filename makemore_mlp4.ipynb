{
 "cells": [
  {
   "cell_type": "markdown",
   "metadata": {},
   "source": [
    "# ***MAKEMORE: RNN ARCHITECTURE (WAVE NET)***"
   ]
  },
  {
   "cell_type": "markdown",
   "metadata": {},
   "source": [
    "### Importing Libs"
   ]
  },
  {
   "cell_type": "code",
   "execution_count": 3,
   "metadata": {},
   "outputs": [],
   "source": [
    "import torch\n",
    "torch.manual_seed(42); # seed rng for reproducibility\n",
    "import torch.nn.functional as F\n",
    "import matplotlib.pyplot as plt\n",
    "import numpy as np"
   ]
  },
  {
   "cell_type": "markdown",
   "metadata": {},
   "source": [
    "### Reading list of names (all lowered already)"
   ]
  },
  {
   "cell_type": "code",
   "execution_count": 4,
   "metadata": {},
   "outputs": [
    {
     "data": {
      "text/plain": [
       "['emma',\n",
       " 'olivia',\n",
       " 'ava',\n",
       " 'isabella',\n",
       " 'sophia',\n",
       " 'charlotte',\n",
       " 'mia',\n",
       " 'amelia',\n",
       " 'harper',\n",
       " 'evelyn']"
      ]
     },
     "execution_count": 4,
     "metadata": {},
     "output_type": "execute_result"
    }
   ],
   "source": [
    "words = open(\"names.txt\", \"r\").read().splitlines()\n",
    "words[:10]"
   ]
  },
  {
   "cell_type": "markdown",
   "metadata": {},
   "source": [
    "### Building vocab of chars and mapping into integers"
   ]
  },
  {
   "cell_type": "code",
   "execution_count": 5,
   "metadata": {},
   "outputs": [
    {
     "name": "stdout",
     "output_type": "stream",
     "text": [
      "{1: 'a', 2: 'b', 3: 'c', 4: 'd', 5: 'e', 6: 'f', 7: 'g', 8: 'h', 9: 'i', 10: 'j', 11: 'k', 12: 'l', 13: 'm', 14: 'n', 15: 'o', 16: 'p', 17: 'q', 18: 'r', 19: 's', 20: 't', 21: 'u', 22: 'v', 23: 'w', 24: 'x', 25: 'y', 26: 'z', 0: '.'}\n"
     ]
    }
   ],
   "source": [
    "chars = sorted(list(set(''.join(words))))\n",
    "stoi = {s:i + 1 for i, s in enumerate(chars)}\n",
    "stoi['.'] = 0\n",
    "itos = {i:s for s, i in stoi.items()}\n",
    "vocab_size = len(itos)\n",
    "print(itos)"
   ]
  },
  {
   "cell_type": "markdown",
   "metadata": {},
   "source": [
    "### Build dataset"
   ]
  },
  {
   "cell_type": "code",
   "execution_count": 6,
   "metadata": {},
   "outputs": [],
   "source": [
    "block_size = 3\n",
    "X, Y = [], []\n",
    "for w in words:\n",
    "    \n",
    "    context = [0] * block_size\n",
    "    for ch in w + '.':\n",
    "        ix = stoi[ch]\n",
    "        X.append(context.copy())\n",
    "        Y.append(ix)\n",
    "        context = context[1:] + [ix]\n",
    "\n",
    "X = torch.tensor(X)\n",
    "Y = torch.tensor(Y)"
   ]
  },
  {
   "cell_type": "markdown",
   "metadata": {},
   "source": [
    "### Train Test Validation splits"
   ]
  },
  {
   "cell_type": "code",
   "execution_count": 7,
   "metadata": {},
   "outputs": [],
   "source": [
    "def build_dataset(words):\n",
    "    X, Y = [], []\n",
    "    for w in words:\n",
    "        context = [0] * block_size\n",
    "        for ch in w + '.':\n",
    "            ix = stoi[ch]\n",
    "            X.append(context)\n",
    "            Y.append(ix)\n",
    "            context = context[1:] + [ix]\n",
    "    return torch.tensor(X), torch.tensor(Y)\n",
    "\n",
    "import random\n",
    "random.seed(42)\n",
    "random.shuffle(words)\n",
    "\n",
    "# 80% train, 10% validation, 10% test\n",
    "train = words[:int(.8 * len(words))]\n",
    "valid = words[int(.8 * len(words)):int(.9 * len(words))]\n",
    "test = words[int(.9 * len(words)):]\n",
    "\n",
    "X_train, Y_train = build_dataset(train)\n",
    "X_valid, Y_valid = build_dataset(valid)\n",
    "X_test, Y_test = build_dataset(test)"
   ]
  },
  {
   "cell_type": "code",
   "execution_count": 8,
   "metadata": {},
   "outputs": [
    {
     "data": {
      "text/plain": [
       "(torch.Size([182625, 3]), torch.Size([22655, 3]), torch.Size([22866, 3]))"
      ]
     },
     "execution_count": 8,
     "metadata": {},
     "output_type": "execute_result"
    }
   ],
   "source": [
    "X_train.shape, X_valid.shape, X_test.shape"
   ]
  },
  {
   "cell_type": "markdown",
   "metadata": {},
   "source": [
    "### MLP\n",
    "Adjusting the intialization weights so that the gaussians keep std =~ 1. More details on <a href=\"https://pytorch.org/docs/stable/nn.init.html\"> this link </a>\n",
    "\n"
   ]
  },
  {
   "cell_type": "code",
   "execution_count": 9,
   "metadata": {},
   "outputs": [],
   "source": [
    "g = torch.Generator().manual_seed(42)\n",
    "# Embedding matrix\n",
    "n_emb = 10\n",
    "n_hidden = 200\n",
    "C = torch.randn((27, n_emb), generator=g)\n",
    "# MLP weights and biases\n",
    "W1 = torch.randn((n_emb*block_size, n_hidden), generator=g) * (5/3)/((n_emb*block_size + n_hidden)**0.5)\n",
    "b1 = torch.randn(n_hidden, generator=g) * 0.01\n",
    "W2 = torch.randn((n_hidden, 27), generator=g) * 0.01\n",
    "b2 = torch.randn(27, generator=g) * 0.0\n",
    "\n",
    "bn_gain = torch.ones((1, n_hidden))\n",
    "bn_bias = torch.zeros((1, n_hidden))\n",
    "bn_mean_running = torch.zeros((1, n_hidden))\n",
    "bn_std_running = torch.ones((1, n_hidden))\n",
    "\n",
    "params = [C, W1, b1, W2, b2, bn_gain, bn_bias]\n",
    "for p in params:\n",
    "    p.requires_grad = True"
   ]
  },
  {
   "cell_type": "markdown",
   "metadata": {},
   "source": [
    "### Check how gaussians behave through forward pass"
   ]
  },
  {
   "cell_type": "code",
   "execution_count": 10,
   "metadata": {},
   "outputs": [
    {
     "name": "stdout",
     "output_type": "stream",
     "text": [
      "tensor(0.0025) tensor(1.0073)\n",
      "tensor(-0.0003) tensor(1.0160)\n"
     ]
    },
    {
     "data": {
      "text/plain": [
       "(array([1.0000e+00, 0.0000e+00, 1.0000e+00, 0.0000e+00, 0.0000e+00,\n",
       "        1.0000e+00, 0.0000e+00, 4.0000e+00, 6.0000e+00, 7.0000e+00,\n",
       "        1.1000e+01, 9.0000e+00, 1.2000e+01, 1.5000e+01, 2.7000e+01,\n",
       "        3.0000e+01, 3.9000e+01, 5.5000e+01, 9.3000e+01, 9.3000e+01,\n",
       "        1.4700e+02, 1.9700e+02, 2.6800e+02, 3.3700e+02, 4.5400e+02,\n",
       "        5.6600e+02, 7.6500e+02, 1.0220e+03, 1.2560e+03, 1.5670e+03,\n",
       "        2.1670e+03, 2.7180e+03, 3.3750e+03, 4.2610e+03, 5.3030e+03,\n",
       "        6.6710e+03, 8.3170e+03, 1.0234e+04, 1.2447e+04, 1.5206e+04,\n",
       "        1.8206e+04, 2.1639e+04, 2.5480e+04, 2.9273e+04, 3.3322e+04,\n",
       "        3.7694e+04, 4.1598e+04, 4.6089e+04, 4.9667e+04, 5.1997e+04,\n",
       "        5.3559e+04, 5.3802e+04, 5.2966e+04, 5.0525e+04, 4.8079e+04,\n",
       "        4.4138e+04, 3.9769e+04, 3.6021e+04, 3.1491e+04, 2.7322e+04,\n",
       "        2.3439e+04, 1.9828e+04, 1.6809e+04, 1.3816e+04, 1.1214e+04,\n",
       "        9.3330e+03, 7.4190e+03, 6.0770e+03, 4.7740e+03, 3.7730e+03,\n",
       "        2.9550e+03, 2.3550e+03, 1.8970e+03, 1.4320e+03, 1.0900e+03,\n",
       "        8.6000e+02, 6.3400e+02, 4.7700e+02, 3.8500e+02, 2.6600e+02,\n",
       "        2.2300e+02, 1.6800e+02, 9.5000e+01, 9.5000e+01, 7.4000e+01,\n",
       "        4.3000e+01, 4.7000e+01, 2.6000e+01, 1.8000e+01, 1.2000e+01,\n",
       "        1.0000e+01, 1.0000e+01, 7.0000e+00, 4.0000e+00, 5.0000e+00,\n",
       "        3.0000e+00, 3.0000e+00, 3.0000e+00, 0.0000e+00, 2.0000e+00]),\n",
       " array([-6.443398  , -6.31768465, -6.19197178, -6.06625843, -5.94054508,\n",
       "        -5.81483221, -5.68911886, -5.56340599, -5.43769264, -5.31197929,\n",
       "        -5.18626642, -5.06055307, -4.93483973, -4.80912685, -4.68341351,\n",
       "        -4.55770016, -4.43198729, -4.30627394, -4.18056059, -4.05484772,\n",
       "        -3.92913437, -3.80342126, -3.67770815, -3.55199504, -3.42628169,\n",
       "        -3.30056858, -3.17485547, -3.04914212, -2.92342901, -2.7977159 ,\n",
       "        -2.67200279, -2.54628944, -2.42057633, -2.29486322, -2.16914988,\n",
       "        -2.04343677, -1.91772366, -1.79201043, -1.66629732, -1.54058409,\n",
       "        -1.41487098, -1.28915775, -1.16344452, -1.03773141, -0.91201824,\n",
       "        -0.78630507, -0.66059184, -0.53487867, -0.4091655 , -0.28345233,\n",
       "        -0.15773916, -0.03202599,  0.09368719,  0.21940036,  0.34511355,\n",
       "         0.47082672,  0.59653991,  0.72225308,  0.84796625,  0.97367942,\n",
       "         1.09939265,  1.22510576,  1.35081899,  1.4765321 ,  1.60224533,\n",
       "         1.72795844,  1.85367167,  1.9793849 ,  2.10509801,  2.23081112,\n",
       "         2.35652447,  2.48223758,  2.60795069,  2.7336638 ,  2.85937715,\n",
       "         2.98509026,  3.11080337,  3.23651671,  3.36222982,  3.48794293,\n",
       "         3.61365604,  3.73936939,  3.8650825 ,  3.99079561,  4.11650896,\n",
       "         4.24222183,  4.36793518,  4.49364853,  4.6193614 ,  4.74507475,\n",
       "         4.8707881 ,  4.99650097,  5.12221432,  5.24792767,  5.37364054,\n",
       "         5.49935389,  5.62506676,  5.75078011,  5.87649345,  6.00220633,\n",
       "         6.12791967]),\n",
       " <BarContainer object of 100 artists>)"
      ]
     },
     "execution_count": 10,
     "metadata": {},
     "output_type": "execute_result"
    },
    {
     "data": {
      "image/png": "[encoded data removed]",
      "text/plain": [
       "<Figure size 1200x600 with 2 Axes>"
      ]
     },
     "metadata": {},
     "output_type": "display_data"
    }
   ],
   "source": [
    "x = torch.randn(5000, 10)\n",
    "w = torch.randn(10, 200) / 10**0.5\n",
    "y = x @ w\n",
    "print(x.mean(), x.std())\n",
    "print(y.mean(), y.std())\n",
    "\n",
    "plt.figure(figsize=(12, 6))\n",
    "plt.subplot(121)\n",
    "plt.hist(x.view(-1), bins=100)\n",
    "plt.subplot(122)\n",
    "plt.hist(y.view(-1), bins=100)"
   ]
  },
  {
   "cell_type": "markdown",
   "metadata": {},
   "source": [
    "## Making modules for each layer type"
   ]
  },
  {
   "cell_type": "code",
   "execution_count": 11,
   "metadata": {},
   "outputs": [],
   "source": [
    "class Linear:\n",
    "  def __init__(self, fan_in, fan_out, bias=True):\n",
    "    self.weight = torch.randn((fan_in, fan_out)) / fan_in**0.5 # Kaiming\n",
    "    self.bias = torch.zeros(fan_out) if bias else None\n",
    "  \n",
    "  def __call__(self, x):\n",
    "    self.out = x @ self.weight\n",
    "    if self.bias is not None:\n",
    "      self.out += self.bias\n",
    "    return self.out\n",
    "  \n",
    "  def parameters(self):\n",
    "    return [self.weight] + ([] if self.bias is None else [self.bias])"
   ]
  },
  {
   "cell_type": "code",
   "execution_count": 12,
   "metadata": {},
   "outputs": [],
   "source": [
    "class BatchNorm1d:\n",
    "  \n",
    "  def __init__(self, dim, eps=1e-5, momentum=0.1):\n",
    "    self.eps = eps\n",
    "    self.momentum = momentum\n",
    "    self.training = True\n",
    "    # PARAMS\n",
    "    self.gamma = torch.ones(dim)\n",
    "    self.beta = torch.zeros(dim)\n",
    "    # NOT PARAMS (no backprop here)\n",
    "    self.running_mean = torch.zeros(dim)\n",
    "    self.running_var = torch.ones(dim)\n",
    "    \n",
    "  def __call__(self, x):\n",
    "    # calculate the forward pass\n",
    "    if self.training:\n",
    "      if x.ndim == 2:\n",
    "        dim = 0\n",
    "      elif x.ndim == 3:\n",
    "        dim = (0,1)\n",
    "      xmean = x.mean(dim, keepdim=True) # batch mean\n",
    "      xvar = x.var(dim, keepdim=True) # batch variance\n",
    "    else:\n",
    "      xmean = self.running_mean\n",
    "      xvar = self.running_var\n",
    "    xhat = (x - xmean) / torch.sqrt(xvar + self.eps) # normalize to unit variance\n",
    "    self.out = self.gamma * xhat + self.beta\n",
    "    # update the buffers\n",
    "    if self.training:\n",
    "      with torch.no_grad():\n",
    "        self.running_mean = (1 - self.momentum) * self.running_mean + self.momentum * xmean\n",
    "        self.running_var = (1 - self.momentum) * self.running_var + self.momentum * xvar\n",
    "    return self.out\n",
    "  \n",
    "  def parameters(self):\n",
    "    return [self.gamma, self.beta]"
   ]
  },
  {
   "cell_type": "code",
   "execution_count": 13,
   "metadata": {},
   "outputs": [],
   "source": [
    "class Tanh:\n",
    "  def __call__(self, x):\n",
    "    self.out = torch.tanh(x)\n",
    "    return self.out\n",
    "  def parameters(self):\n",
    "    return []"
   ]
  },
  {
   "cell_type": "code",
   "execution_count": 14,
   "metadata": {},
   "outputs": [],
   "source": [
    "class Embedding:\n",
    "  \n",
    "  def __init__(self, num_embeddings, embedding_dim):\n",
    "    self.weight = torch.randn((num_embeddings, embedding_dim))\n",
    "    \n",
    "  def __call__(self, IX):\n",
    "    self.out = self.weight[IX]\n",
    "    return self.out\n",
    "  \n",
    "  def parameters(self):\n",
    "    return [self.weight]"
   ]
  },
  {
   "cell_type": "code",
   "execution_count": 15,
   "metadata": {},
   "outputs": [],
   "source": [
    "class Flatten:\n",
    "      \n",
    "  def __call__(self, x):\n",
    "    self.out = x.view(x.shape[0], -1)\n",
    "    return self.out\n",
    "  \n",
    "  def parameters(self):\n",
    "    return []"
   ]
  },
  {
   "cell_type": "code",
   "execution_count": 16,
   "metadata": {},
   "outputs": [],
   "source": [
    "class FlattenConsecutive:\n",
    "  \n",
    "  def __init__(self, n):\n",
    "    self.n = n\n",
    "    \n",
    "  def __call__(self, x):\n",
    "    B, T, C = x.shape\n",
    "    x = x.view(B, T//self.n, C*self.n)\n",
    "    if x.shape[1] == 1:\n",
    "      x = x.squeeze(1)\n",
    "    self.out = x\n",
    "    return self.out\n",
    "  \n",
    "  def parameters(self):\n",
    "    return []"
   ]
  },
  {
   "cell_type": "code",
   "execution_count": 17,
   "metadata": {},
   "outputs": [],
   "source": [
    "class Sequential:\n",
    "  \n",
    "  def __init__(self, layers):\n",
    "    self.layers = layers\n",
    "  \n",
    "  def __call__(self, x):\n",
    "    for layer in self.layers:\n",
    "      x = layer(x)\n",
    "    self.out = x\n",
    "    return self.out\n",
    "  \n",
    "  def parameters(self):\n",
    "    # Return all the parameters from all layers\n",
    "    return [p for layer in self.layers for p in layer.parameters()]\n"
   ]
  },
  {
   "cell_type": "markdown",
   "metadata": {},
   "source": [
    "### New model using modules"
   ]
  },
  {
   "cell_type": "code",
   "execution_count": 18,
   "metadata": {},
   "outputs": [
    {
     "name": "stdout",
     "output_type": "stream",
     "text": [
      "76579\n"
     ]
    }
   ],
   "source": [
    "n_embd = 24\n",
    "n_hidden = 128\n",
    "model = Sequential([\n",
    "  Embedding(vocab_size, n_embd),\n",
    "  FlattenConsecutive(2), Linear(n_embd * 2, n_hidden, bias=False), BatchNorm1d(n_hidden), Tanh(),\n",
    "  FlattenConsecutive(2), Linear(n_hidden*2, n_hidden, bias=False), BatchNorm1d(n_hidden), Tanh(),\n",
    "  FlattenConsecutive(2), Linear(n_hidden*2, n_hidden, bias=False), BatchNorm1d(n_hidden), Tanh(),\n",
    "  Linear(n_hidden, vocab_size),\n",
    "])\n",
    "  \n",
    "\n",
    "# parameter init\n",
    "with torch.no_grad():\n",
    "  model.layers[-1].weight *= 0.1 # last layer make less confident\n",
    "\n",
    "parameters = model.parameters()\n",
    "print(sum(p.nelement() for p in parameters)) # number of parameters in total\n",
    "for p in parameters:\n",
    "  p.requires_grad = True"
   ]
  },
  {
   "cell_type": "markdown",
   "metadata": {},
   "source": [
    "### Training the MLP"
   ]
  },
  {
   "cell_type": "code",
   "execution_count": 19,
   "metadata": {},
   "outputs": [
    {
     "data": {
      "text/plain": [
       "[6, 7, 8, 9, 10, 6, 7, 8, 9, 10, 6, 7, 8, 9, 10]"
      ]
     },
     "execution_count": 19,
     "metadata": {},
     "output_type": "execute_result"
    }
   ],
   "source": [
    "[i for j in range(3) for i in range(6,11)]"
   ]
  },
  {
   "cell_type": "code",
   "execution_count": 20,
   "metadata": {},
   "outputs": [
    {
     "name": "stdout",
     "output_type": "stream",
     "text": [
      "      0/ 100000 Loss: 3.2905\n",
      "  10000/ 100000 Loss: 2.3939\n",
      "  20000/ 100000 Loss: 2.0469\n",
      "  30000/ 100000 Loss: 2.0583\n",
      "  40000/ 100000 Loss: 2.2502\n",
      "  50000/ 100000 Loss: 2.2099\n",
      "  60000/ 100000 Loss: 1.9231\n",
      "  70000/ 100000 Loss: 1.9300\n",
      "  80000/ 100000 Loss: 1.8470\n",
      "  90000/ 100000 Loss: 1.9804\n"
     ]
    }
   ],
   "source": [
    "lossi = []\n",
    "lri = []\n",
    "stepi = []\n",
    "losses = []\n",
    "n_steps = 100000\n",
    "batch_size = 32\n",
    "for i in range(n_steps):\n",
    "    # Minibatch Creation\n",
    "    ix = torch.randint(0, X_train.shape[0], (batch_size,))\n",
    "    Xb, Yb = X_train[ix], Y_train[ix]\n",
    "    \n",
    "    # Forward\n",
    "    emb = C[Xb] #Take the embeddings\n",
    "    embcat = emb.view(emb.shape[0], -1) #concatenate the embeddings (flatten)\n",
    "    h_preact = (embcat @ W1) + b1 # hidden pre-activation\n",
    "    bn_mean_i = h_preact.mean(0, keepdims=True)\n",
    "    bn_std_i = h_preact.std(0, keepdims=True)\n",
    "    h_preact = (h_preact - bn_mean_i) / bn_std_i # batch normalization\n",
    "    h_preact = (h_preact * bn_gain) + bn_bias # scale and shift\n",
    "    \n",
    "    with torch.no_grad():\n",
    "        bn_mean_running = 0.999 * bn_mean_running + 0.001 * bn_mean_i\n",
    "        bn_std_running = 0.999 * bn_std_running + 0.001 * bn_std_i\n",
    "    \n",
    "    h = torch.tanh(h_preact) # hidden activation\n",
    "    logits = (h @ W2) + b2 #  output layer (numerical values)\n",
    "    # Neg Log lokelihood\n",
    "    loss = F.cross_entropy(logits, Yb)\n",
    "    \n",
    "    #Backward\n",
    "    for p in params:\n",
    "        p.grad = None\n",
    "    loss.backward() \n",
    "    \n",
    "    # update params\n",
    "    lr = 0.1 if i < int(.5*n_steps) else 0.01\n",
    "    # lr = lri[i]\n",
    "    for p in params:\n",
    "        p.data += -p.grad * lr\n",
    "    # lossi.append(loss.item())\n",
    "    # lri.append(lr)\n",
    "    \n",
    "    # track metrics\n",
    "    if i%10000 == 0:\n",
    "        print(f'{i:7d}/{n_steps:7d} Loss: {loss.item():.4f}')\n",
    "    stepi.append(i)\n",
    "    losses.append(loss.log10().item())\n",
    "    #break"
   ]
  },
  {
   "cell_type": "markdown",
   "metadata": {},
   "source": [
    "## Mean and std at the end"
   ]
  },
  {
   "cell_type": "code",
   "execution_count": 25,
   "metadata": {},
   "outputs": [],
   "source": [
    "with torch.no_grad():\n",
    "    emb = C[X_train]\n",
    "    embcat = emb.view(emb.shape[0], -1)\n",
    "    h_preact = (embcat @ W1) + b1\n",
    "    # mean and std of the pre-activation\n",
    "    bn_mean = h_preact.mean(0, keepdims=True)\n",
    "    bn_std = h_preact.std(0, keepdims=True)"
   ]
  },
  {
   "cell_type": "code",
   "execution_count": 26,
   "metadata": {},
   "outputs": [
    {
     "data": {
      "text/plain": [
       "(tensor([[-2.8719e-03, -1.3858e-02,  6.8337e-03,  2.5829e-02, -5.9835e-03,\n",
       "          -9.1991e-03,  2.6587e-03, -1.2255e-03,  1.2036e-02,  3.1973e-03,\n",
       "           1.9819e-03,  8.5813e-04,  1.9147e-02,  3.0696e-03, -4.0165e-03,\n",
       "           1.1766e-02,  7.7556e-03, -1.1358e-02,  1.0453e-03,  1.0978e-03,\n",
       "          -3.4360e-03,  7.7195e-03,  2.0364e-02,  2.2324e-02, -3.5158e-03,\n",
       "           8.9281e-03, -6.5058e-04,  5.4198e-03,  4.0224e-03,  6.2442e-03,\n",
       "          -9.6824e-03,  8.4774e-03, -1.4537e-02, -1.5694e-03, -2.6768e-03,\n",
       "          -1.5600e-03, -1.7931e-02, -3.1544e-03, -4.3057e-05, -1.2182e-03,\n",
       "           9.5417e-03,  9.1441e-03,  1.2826e-02,  3.7956e-03,  5.0372e-03,\n",
       "           8.9660e-03, -7.2476e-03,  2.2626e-03,  1.7312e-02,  8.5283e-03,\n",
       "          -2.3287e-03,  4.3098e-03, -2.5624e-02,  2.3174e-03, -1.5878e-02,\n",
       "          -3.6122e-03, -3.1115e-03, -1.2482e-02,  7.9904e-03,  9.3264e-03,\n",
       "          -2.8681e-03,  6.9872e-03,  1.7952e-03,  7.8504e-03,  2.4672e-03,\n",
       "          -7.8224e-03, -5.0174e-03,  1.3376e-02,  1.0220e-02,  9.4623e-03,\n",
       "           1.4425e-02, -1.3382e-03, -5.3867e-03, -3.5905e-03, -5.1028e-03,\n",
       "           4.9369e-03, -3.4045e-03,  3.4932e-03, -3.9278e-03, -4.3400e-03,\n",
       "          -4.5066e-03, -4.0418e-03,  2.9232e-03, -3.5989e-03, -3.9653e-03,\n",
       "          -2.7160e-03,  2.7588e-03,  7.6954e-03,  9.0234e-03,  2.1267e-04,\n",
       "           6.1147e-03,  1.3077e-02,  1.8041e-03,  3.8390e-03,  1.7577e-02,\n",
       "           7.2535e-03,  9.1323e-04,  9.6872e-03, -1.3281e-02,  9.2554e-04,\n",
       "           6.5962e-03,  6.7741e-03, -6.4889e-03,  3.0795e-04,  4.1000e-03,\n",
       "          -8.6967e-03,  1.5506e-02,  7.2122e-04, -5.3811e-03, -8.0824e-03,\n",
       "          -1.1061e-02,  2.0700e-03,  2.4256e-02, -6.9804e-03, -6.2239e-03,\n",
       "          -1.2933e-02,  6.1801e-03,  5.5729e-03, -5.2082e-03, -1.5714e-03,\n",
       "          -6.1775e-03,  8.7661e-03,  4.7075e-03, -8.1649e-04,  6.0150e-03,\n",
       "          -2.2215e-03, -4.6682e-03, -1.0111e-02, -2.8431e-04, -1.3726e-02,\n",
       "           9.2438e-03, -7.4097e-03, -1.5990e-02, -2.3461e-02,  1.0617e-02,\n",
       "          -1.2370e-02, -2.4506e-04, -4.5208e-03,  1.1107e-02, -6.4218e-04,\n",
       "           1.6991e-03, -1.3993e-03,  1.6433e-02, -8.6112e-03,  3.5707e-03,\n",
       "          -1.1142e-02, -6.9007e-03, -4.3920e-03, -6.3471e-03,  2.6560e-04,\n",
       "           3.4138e-03, -6.6626e-03,  5.7858e-03, -8.6564e-03, -5.1112e-03,\n",
       "          -1.3905e-02, -8.3065e-04, -9.6513e-03,  7.8099e-03, -1.0523e-02,\n",
       "           1.2243e-03, -3.2291e-03, -5.3286e-03,  7.9063e-03,  5.9737e-03,\n",
       "          -1.3988e-02,  5.8075e-03,  1.1701e-02, -5.6356e-03, -1.3545e-02,\n",
       "          -6.7306e-03, -2.4025e-03, -6.9948e-03,  2.4250e-03, -1.5844e-02,\n",
       "           3.3330e-03, -7.1618e-03, -2.9236e-03,  9.6325e-03, -9.0237e-03,\n",
       "           1.5737e-03,  1.7505e-02, -1.7380e-02, -1.3109e-02, -4.7360e-03,\n",
       "           6.0068e-03,  5.4994e-03,  1.6500e-02, -1.0060e-02,  1.5896e-02,\n",
       "          -5.9113e-03, -3.1727e-03, -7.8778e-03,  9.7330e-03,  5.8952e-03,\n",
       "          -8.6480e-03,  2.6301e-03,  5.2033e-04, -4.8696e-03, -1.9021e-03]]),\n",
       " tensor([[ 0.0104,  0.0111,  0.0190,  0.0240,  0.0106,  0.0117,  0.0095,  0.0118,\n",
       "           0.0152,  0.0129,  0.0163,  0.0080,  0.0113,  0.0076,  0.0162,  0.0141,\n",
       "           0.0110,  0.0227,  0.0145,  0.0111,  0.0071,  0.0238,  0.0040,  0.0116,\n",
       "           0.0105,  0.0252,  0.0207,  0.0259,  0.0256,  0.0151,  0.0132,  0.0128,\n",
       "           0.0107,  0.0076,  0.0191,  0.0126,  0.0005,  0.0069,  0.0070,  0.0087,\n",
       "           0.0154,  0.0117,  0.0078,  0.0060,  0.0186,  0.0194,  0.0218,  0.0106,\n",
       "           0.0231,  0.0080,  0.0282,  0.0164,  0.0117,  0.0152,  0.0154,  0.0263,\n",
       "           0.0076,  0.0195,  0.0172,  0.0184,  0.0072,  0.0017,  0.0121,  0.0154,\n",
       "           0.0282,  0.0137,  0.0250,  0.0142,  0.0083,  0.0113,  0.0048,  0.0133,\n",
       "           0.0070,  0.0175,  0.0134,  0.0061,  0.0104,  0.0074,  0.0108,  0.0129,\n",
       "           0.0138,  0.0021,  0.0077,  0.0183,  0.0158,  0.0138,  0.0077,  0.0123,\n",
       "           0.0083,  0.0111,  0.0235,  0.0158,  0.0120,  0.0115,  0.0166,  0.0189,\n",
       "           0.0053,  0.0166,  0.0101,  0.0071,  0.0049,  0.0229,  0.0132,  0.0134,\n",
       "           0.0181,  0.0100,  0.0121,  0.0005,  0.0183,  0.0247,  0.0230,  0.0152,\n",
       "           0.0028,  0.0181,  0.0158,  0.0075,  0.0064,  0.0198,  0.0220,  0.0175,\n",
       "           0.0081,  0.0120,  0.0170,  0.0222,  0.0035,  0.0100,  0.0135,  0.0195,\n",
       "           0.0179,  0.0215,  0.0193,  0.0143,  0.0105,  0.0212,  0.0150,  0.0201,\n",
       "           0.0184,  0.0186,  0.0256,  0.0068,  0.0140,  0.0124,  0.0080,  0.0061,\n",
       "           0.0127,  0.0203,  0.0150,  0.0182,  0.0146,  0.0104,  0.0145,  0.0281,\n",
       "           0.0057,  0.0116, -0.0031,  0.0169,  0.0134,  0.0079,  0.0156,  0.0211,\n",
       "           0.0132,  0.0137,  0.0216,  0.0169,  0.0024,  0.0180,  0.0148,  0.0107,\n",
       "           0.0162,  0.0123,  0.0074,  0.0132,  0.0080,  0.0162,  0.0209,  0.0123,\n",
       "           0.0218,  0.0117,  0.0092,  0.0168,  0.0152,  0.0103,  0.0061,  0.0112,\n",
       "           0.0179,  0.0251,  0.0200,  0.0123,  0.0145,  0.0179,  0.0058,  0.0139,\n",
       "           0.0155,  0.0091,  0.0179,  0.0191,  0.0067,  0.0237,  0.0171,  0.0080]]))"
      ]
     },
     "execution_count": 26,
     "metadata": {},
     "output_type": "execute_result"
    }
   ],
   "source": [
    "bn_mean - bn_mean_running, bn_std - bn_std_running"
   ]
  },
  {
   "cell_type": "markdown",
   "metadata": {},
   "source": [
    "## Check Losses"
   ]
  },
  {
   "cell_type": "code",
   "execution_count": 27,
   "metadata": {},
   "outputs": [
    {
     "name": "stdout",
     "output_type": "stream",
     "text": [
      "train 2.081333875656128\n",
      "valid 2.1188321113586426\n",
      "test 2.120009422302246\n"
     ]
    }
   ],
   "source": [
    "@torch.no_grad()\n",
    "def split_loss(split):\n",
    "    x,y = {\n",
    "        'train': (X_train, Y_train),\n",
    "        'valid': (X_valid, Y_valid),\n",
    "        'test': (X_test, Y_test)\n",
    "    }[split]\n",
    "    emb = C[x]\n",
    "    embcat = emb.view(emb.shape[0], -1)\n",
    "    h_preact = (embcat @ W1) + b1\n",
    "    h_preact = (h_preact - bn_mean_running) / bn_std_running\n",
    "    h_preact = (h_preact * bn_gain) + bn_bias\n",
    "    h = torch.tanh(h_preact)\n",
    "    logits = (h @ W2) + b2\n",
    "    loss = F.cross_entropy(logits, y)\n",
    "    print(split, loss.item())\n",
    "    \n",
    "split_loss('train')\n",
    "split_loss('valid')\n",
    "split_loss('test') "
   ]
  },
  {
   "cell_type": "markdown",
   "metadata": {},
   "source": [
    "## Visualize Losses"
   ]
  },
  {
   "cell_type": "code",
   "execution_count": 28,
   "metadata": {},
   "outputs": [
    {
     "data": {
      "text/plain": [
       "Text(0, 0.5, 'Loss')"
      ]
     },
     "execution_count": 28,
     "metadata": {},
     "output_type": "execute_result"
    },
    {
     "data": {
      "image/png": "[encoded data removed]",
      "text/plain": [
       "<Figure size 640x480 with 1 Axes>"
      ]
     },
     "metadata": {},
     "output_type": "display_data"
    }
   ],
   "source": [
    "plt.plot(stepi, losses)\n",
    "plt.title(\"Step X Loss\")\n",
    "plt.xlabel(\"Step\")\n",
    "plt.ylabel(\"Loss\")"
   ]
  },
  {
   "cell_type": "markdown",
   "metadata": {},
   "source": [
    "## Sampling from the model"
   ]
  },
  {
   "cell_type": "code",
   "execution_count": 29,
   "metadata": {},
   "outputs": [
    {
     "name": "stdout",
     "output_type": "stream",
     "text": [
      "adier.\n",
      "delys.\n",
      "werio.\n",
      "syr.\n",
      "cavee.\n",
      "firton.\n",
      "holeighand.\n",
      "tarie.\n",
      "gadele.\n",
      "rwin.\n",
      "saulya.\n",
      "kawdina.\n",
      "crai.\n",
      "eishana.\n",
      "ani.\n",
      "alywe.\n",
      "nahnaharie.\n",
      "day.\n",
      "deklalonason.\n",
      "bridy.\n"
     ]
    }
   ],
   "source": [
    "for _ in range(20):\n",
    "    out = []\n",
    "    context = [0]*block_size\n",
    "    with torch.no_grad():\n",
    "        while True:\n",
    "            emb = C[torch.tensor([context])]\n",
    "            h_preact = emb.view(1, -1) @ W1 + b1\n",
    "            h_preact = (h_preact - bn_mean) / bn_std\n",
    "            h_preact = h_preact * bn_gain + bn_bias\n",
    "            h = torch.tanh(h_preact)\n",
    "            logits = h @ W2 + b2\n",
    "            probs = F.softmax(logits, dim=1)\n",
    "            ix = torch.multinomial(probs, 1).item()\n",
    "            context = context[1:] + [ix]\n",
    "            out.append(ix)\n",
    "            if ix == 0: break\n",
    "        print(''.join([itos[i] for i in out]))"
   ]
  }
 ],
 "metadata": {
  "kernelspec": {
   "display_name": "nn_venv",
   "language": "python",
   "name": "python3"
  },
  "language_info": {
   "codemirror_mode": {
    "name": "ipython",
    "version": 3
   },
   "file_extension": ".py",
   "mimetype": "text/x-python",
   "name": "python",
   "nbconvert_exporter": "python",
   "pygments_lexer": "ipython3",
   "version": "3.11.11"
  }
 },
 "nbformat": 4,
 "nbformat_minor": 2
}
