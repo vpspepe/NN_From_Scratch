{
 "cells": [
  {
   "cell_type": "markdown",
   "metadata": {},
   "source": [
    "# ***MAKEMORE: NLP MODEL WITH EMBEDDINGS, LR DECAY AND BATCH SPLITS***"
   ]
  },
  {
   "cell_type": "markdown",
   "metadata": {},
   "source": [
    "### Importing Libs"
   ]
  },
  {
   "cell_type": "code",
   "execution_count": 1,
   "metadata": {},
   "outputs": [],
   "source": [
    "import torch\n",
    "import torch.nn.functional as F\n",
    "import matplotlib.pyplot as plt\n",
    "import numpy as np"
   ]
  },
  {
   "cell_type": "markdown",
   "metadata": {},
   "source": [
    "### Reading list of names (all lowered already)"
   ]
  },
  {
   "cell_type": "code",
   "execution_count": 2,
   "metadata": {},
   "outputs": [
    {
     "data": {
      "text/plain": [
       "['emma',\n",
       " 'olivia',\n",
       " 'ava',\n",
       " 'isabella',\n",
       " 'sophia',\n",
       " 'charlotte',\n",
       " 'mia',\n",
       " 'amelia',\n",
       " 'harper',\n",
       " 'evelyn']"
      ]
     },
     "execution_count": 2,
     "metadata": {},
     "output_type": "execute_result"
    }
   ],
   "source": [
    "words = open(\"names.txt\", \"r\").read().splitlines()\n",
    "words[:10]"
   ]
  },
  {
   "cell_type": "markdown",
   "metadata": {},
   "source": [
    "### Building vocab of chars and mapping into integers"
   ]
  },
  {
   "cell_type": "code",
   "execution_count": 3,
   "metadata": {},
   "outputs": [
    {
     "name": "stdout",
     "output_type": "stream",
     "text": [
      "{1: 'a', 2: 'b', 3: 'c', 4: 'd', 5: 'e', 6: 'f', 7: 'g', 8: 'h', 9: 'i', 10: 'j', 11: 'k', 12: 'l', 13: 'm', 14: 'n', 15: 'o', 16: 'p', 17: 'q', 18: 'r', 19: 's', 20: 't', 21: 'u', 22: 'v', 23: 'w', 24: 'x', 25: 'y', 26: 'z', 0: '.'}\n"
     ]
    }
   ],
   "source": [
    "chars = sorted(list(set(''.join(words))))\n",
    "stoi = {s:i + 1 for i, s in enumerate(chars)}\n",
    "stoi['.'] = 0\n",
    "itos = {i:s for s, i in stoi.items()}\n",
    "print(itos)"
   ]
  },
  {
   "cell_type": "markdown",
   "metadata": {},
   "source": [
    "### Build dataset"
   ]
  },
  {
   "cell_type": "code",
   "execution_count": 4,
   "metadata": {},
   "outputs": [],
   "source": [
    "block_size = 3\n",
    "X, Y = [], []\n",
    "for w in words:\n",
    "    \n",
    "    context = [0] * block_size\n",
    "    for ch in w + '.':\n",
    "        ix = stoi[ch]\n",
    "        X.append(context.copy())\n",
    "        Y.append(ix)\n",
    "        context = context[1:] + [ix]\n",
    "\n",
    "X = torch.tensor(X)\n",
    "Y = torch.tensor(Y)"
   ]
  },
  {
   "cell_type": "markdown",
   "metadata": {},
   "source": [
    "### Train Test Validation splits"
   ]
  },
  {
   "cell_type": "code",
   "execution_count": 5,
   "metadata": {},
   "outputs": [],
   "source": [
    "def build_dataset(words):\n",
    "    X, Y = [], []\n",
    "    for w in words:\n",
    "        context = [0] * block_size\n",
    "        for ch in w + '.':\n",
    "            ix = stoi[ch]\n",
    "            X.append(context.copy())\n",
    "            Y.append(ix)\n",
    "            context = context[1:] + [ix]\n",
    "    return torch.tensor(X), torch.tensor(Y)\n",
    "\n",
    "import random\n",
    "random.seed(42)\n",
    "random.shuffle(words)\n",
    "\n",
    "# 80% train, 10% validation, 10% test\n",
    "train = words[:int(.8 * len(words))]\n",
    "valid = words[int(.8 * len(words)):int(.9 * len(words))]\n",
    "test = words[int(.9 * len(words)):]\n",
    "\n",
    "X_train, Y_train = build_dataset(train)\n",
    "X_valid, Y_valid = build_dataset(valid)\n",
    "X_test, Y_test = build_dataset(test)"
   ]
  },
  {
   "cell_type": "code",
   "execution_count": 6,
   "metadata": {},
   "outputs": [
    {
     "data": {
      "text/plain": [
       "(torch.Size([182625, 3]), torch.Size([22655, 3]), torch.Size([22866, 3]))"
      ]
     },
     "execution_count": 6,
     "metadata": {},
     "output_type": "execute_result"
    }
   ],
   "source": [
    "X_train.shape, X_valid.shape, X_test.shape"
   ]
  },
  {
   "cell_type": "markdown",
   "metadata": {},
   "source": [
    "### MLP\n",
    "Adjusting the intialization weights so that the gaussians keep std =~ 1. More details on <a href=\"https://pytorch.org/docs/stable/nn.init.html\"> this link </a>\n",
    "\n"
   ]
  },
  {
   "cell_type": "code",
   "execution_count": null,
   "metadata": {},
   "outputs": [],
   "source": [
    "g = torch.Generator().manual_seed(42)\n",
    "# Embedding matrix\n",
    "n_emb = 10\n",
    "n_hidden = 200\n",
    "C = torch.randn((27, n_emb), generator=g)\n",
    "# MLP weights and biases\n",
    "W1 = torch.randn((n_emb*block_size, n_hidden), generator=g) * (5/3)/((n_emb*block_size + n_hidden)**0.5)\n",
    "b1 = torch.randn(n_hidden, generator=g) * 0.01\n",
    "W2 = torch.randn((n_hidden, 27), generator=g) * 0.01\n",
    "b2 = torch.randn(27, generator=g) * 0\n",
    "\n",
    "params = [C, W1, b1, W2, b2]\n",
    "for p in params:\n",
    "    p.requires_grad = True"
   ]
  },
  {
   "cell_type": "markdown",
   "metadata": {},
   "source": [
    "### Check how gaussians behave through forward pass"
   ]
  },
  {
   "cell_type": "code",
   "execution_count": 17,
   "metadata": {},
   "outputs": [
    {
     "name": "stdout",
     "output_type": "stream",
     "text": [
      "tensor(0.0045) tensor(0.9947)\n",
      "tensor(0.0006) tensor(0.9846)\n"
     ]
    },
    {
     "data": {
      "text/plain": [
       "(array([6.0000e+00, 1.0000e+00, 4.0000e+00, 5.0000e+00, 4.0000e+00,\n",
       "        7.0000e+00, 1.3000e+01, 9.0000e+00, 1.4000e+01, 2.4000e+01,\n",
       "        3.4000e+01, 4.7000e+01, 6.9000e+01, 9.2000e+01, 1.1900e+02,\n",
       "        1.5000e+02, 2.0400e+02, 2.7200e+02, 3.8100e+02, 4.4800e+02,\n",
       "        6.4100e+02, 7.9200e+02, 1.0700e+03, 1.4130e+03, 1.7800e+03,\n",
       "        2.2340e+03, 2.8250e+03, 3.6760e+03, 4.6550e+03, 5.7930e+03,\n",
       "        7.2440e+03, 9.0520e+03, 1.1198e+04, 1.3401e+04, 1.6163e+04,\n",
       "        1.9517e+04, 2.2864e+04, 2.6845e+04, 3.0859e+04, 3.5478e+04,\n",
       "        3.9744e+04, 4.3488e+04, 4.7055e+04, 5.0675e+04, 5.2224e+04,\n",
       "        5.3403e+04, 5.3211e+04, 5.1864e+04, 4.9499e+04, 4.6566e+04,\n",
       "        4.2780e+04, 3.8624e+04, 3.4456e+04, 3.0246e+04, 2.5853e+04,\n",
       "        2.2225e+04, 1.8678e+04, 1.5613e+04, 1.2755e+04, 1.0644e+04,\n",
       "        8.6220e+03, 6.9260e+03, 5.5400e+03, 4.3010e+03, 3.5090e+03,\n",
       "        2.7660e+03, 2.1540e+03, 1.7080e+03, 1.3230e+03, 9.8500e+02,\n",
       "        7.4900e+02, 6.0400e+02, 4.3700e+02, 3.4500e+02, 2.5900e+02,\n",
       "        2.0500e+02, 1.4300e+02, 1.1900e+02, 6.4000e+01, 6.0000e+01,\n",
       "        4.8000e+01, 3.0000e+01, 2.9000e+01, 2.0000e+01, 1.4000e+01,\n",
       "        6.0000e+00, 7.0000e+00, 6.0000e+00, 4.0000e+00, 1.0000e+00,\n",
       "        2.0000e+00, 0.0000e+00, 2.0000e+00, 3.0000e+00, 0.0000e+00,\n",
       "        0.0000e+00, 1.0000e+00, 0.0000e+00, 0.0000e+00, 2.0000e+00]),\n",
       " array([-5.5912118 , -5.46936321, -5.34751415, -5.22566557, -5.10381699,\n",
       "        -4.9819684 , -4.86011934, -4.73827076, -4.61642218, -4.49457359,\n",
       "        -4.37272453, -4.25087595, -4.12902737, -4.00717878, -3.88532996,\n",
       "        -3.76348114, -3.64163256, -3.51978374, -3.39793515, -3.27608633,\n",
       "        -3.15423775, -3.03238893, -2.91054034, -2.78869152, -2.66684294,\n",
       "        -2.54499412, -2.42314529, -2.30129671, -2.17944789, -2.05759931,\n",
       "        -1.9357506 , -1.8139019 , -1.6920532 , -1.5702045 , -1.44835579,\n",
       "        -1.32650709, -1.20465839, -1.08280969, -0.96096092, -0.83911222,\n",
       "        -0.71726352, -0.59541482, -0.47356609, -0.35171738, -0.22986868,\n",
       "        -0.10801997,  0.01382874,  0.13567744,  0.25752616,  0.37937486,\n",
       "         0.50122356,  0.62307227,  0.74492097,  0.86676967,  0.98861837,\n",
       "         1.11046708,  1.23231578,  1.35416448,  1.47601318,  1.59786189,\n",
       "         1.71971059,  1.84155929,  1.96340799,  2.08525681,  2.2071054 ,\n",
       "         2.32895422,  2.4508028 ,  2.57265162,  2.69450021,  2.81634903,\n",
       "         2.93819761,  3.06004643,  3.18189502,  3.30374384,  3.42559242,\n",
       "         3.54744124,  3.66929007,  3.79113865,  3.91298747,  4.03483629,\n",
       "         4.15668488,  4.27853346,  4.40038204,  4.5222311 ,  4.64407969,\n",
       "         4.76592827,  4.88777685,  5.00962591,  5.13147449,  5.25332308,\n",
       "         5.37517166,  5.49702072,  5.6188693 ,  5.74071789,  5.86256647,\n",
       "         5.98441553,  6.10626411,  6.2281127 ,  6.34996128,  6.47181034,\n",
       "         6.59365892]),\n",
       " <BarContainer object of 100 artists>)"
      ]
     },
     "execution_count": 17,
     "metadata": {},
     "output_type": "execute_result"
    },
    {
     "data": {
      "image/png": "[encoded data removed]",
      "text/plain": [
       "<Figure size 1200x600 with 2 Axes>"
      ]
     },
     "metadata": {},
     "output_type": "display_data"
    }
   ],
   "source": [
    "x = torch.randn(5000, 10)\n",
    "w = torch.randn(10, 200) / 10**0.5\n",
    "y = x @ w\n",
    "print(x.mean(), x.std())\n",
    "print(y.mean(), y.std())\n",
    "\n",
    "plt.figure(figsize=(12, 6))\n",
    "plt.subplot(121)\n",
    "plt.hist(x.view(-1), bins=100)\n",
    "plt.subplot(122)\n",
    "plt.hist(y.view(-1), bins=100)"
   ]
  },
  {
   "cell_type": "markdown",
   "metadata": {},
   "source": [
    "### Training the MLP"
   ]
  },
  {
   "cell_type": "code",
   "execution_count": 22,
   "metadata": {},
   "outputs": [],
   "source": [
    "h_preact = embcat @ W1 + b1 # hidden pre-activation\n",
    "h_preact = (h_preact - h_preact.mean(0, keepdims=True)) / h_preact.std(0, keepdims=True) # batch normalization"
   ]
  },
  {
   "cell_type": "code",
   "execution_count": null,
   "metadata": {},
   "outputs": [],
   "source": []
  },
  {
   "cell_type": "code",
   "execution_count": 28,
   "metadata": {},
   "outputs": [
    {
     "data": {
      "text/plain": [
       "torch.Size([32, 200])"
      ]
     },
     "execution_count": 28,
     "metadata": {},
     "output_type": "execute_result"
    }
   ],
   "source": [
    "h_preact.shape"
   ]
  },
  {
   "cell_type": "code",
   "execution_count": 19,
   "metadata": {},
   "outputs": [
    {
     "name": "stdout",
     "output_type": "stream",
     "text": [
      "      0/ 100000 Loss: 3.3931\n",
      "  10000/ 100000 Loss: 2.6090\n",
      "  20000/ 100000 Loss: 2.8552\n",
      "  30000/ 100000 Loss: 2.8649\n",
      "  40000/ 100000 Loss: 3.0570\n",
      "  50000/ 100000 Loss: 2.9011\n",
      "  60000/ 100000 Loss: 2.5954\n",
      "  70000/ 100000 Loss: 2.6742\n",
      "  80000/ 100000 Loss: 2.9808\n",
      "  90000/ 100000 Loss: 2.9436\n"
     ]
    }
   ],
   "source": [
    "lossi = []\n",
    "lri = []\n",
    "stepi = []\n",
    "losses = []\n",
    "n_steps = 100000\n",
    "batch_size = 32\n",
    "for i in range(n_steps):\n",
    "    # Minibatch Creation\n",
    "    ix = torch.randint(0, X_train.shape[0], (batch_size,))\n",
    "    Xb, Yb = X_train[ix], Y_train[ix]\n",
    "    \n",
    "    # Forward\n",
    "    emb = C[Xb] #Take the embeddings\n",
    "    embcat = emb.view(emb.shape[0], -1) #concatenate the embeddings (flatten)\n",
    "    h_preact = embcat @ W1 + b1 # hidden pre-activation\n",
    "    h_preact = (h_preact - h_preact.mean(0, keepdims=True)) / h_preact.std(0, keepdims=True) # batch normalization\n",
    "    h = torch.tanh(h_preact) # hidden activation\n",
    "    logits = h @ W2 + b2 #  output layer (numerical values)\n",
    "    # Neg Log lokelihood\n",
    "    loss = F.cross_entropy(logits, Y[ix])\n",
    "    \n",
    "    #Backward\n",
    "    for p in params:\n",
    "        p.grad = None\n",
    "    loss.backward() \n",
    "    \n",
    "    # update params\n",
    "    lr = 0.1 if i < int(.5*n_steps) else 0.01\n",
    "    # lr = lri[i]\n",
    "    for p in params:\n",
    "        p.data += -p.grad * lr\n",
    "    # lossi.append(loss.item())\n",
    "    # lri.append(lr)\n",
    "    \n",
    "    # track metrics\n",
    "    if i%10000 == 0:\n",
    "        print(f'{i:7d}/{n_steps:7d} Loss: {loss.item():.4f}')\n",
    "    stepi.append(i)\n",
    "    losses.append(loss.log10().item())\n",
    "    #break"
   ]
  },
  {
   "cell_type": "markdown",
   "metadata": {},
   "source": [
    "## Visualize Losses"
   ]
  },
  {
   "cell_type": "code",
   "execution_count": 10,
   "metadata": {},
   "outputs": [
    {
     "data": {
      "text/plain": [
       "Text(0, 0.5, 'Loss')"
      ]
     },
     "execution_count": 10,
     "metadata": {},
     "output_type": "execute_result"
    },
    {
     "data": {
      "image/png": "[encoded data removed]",
      "text/plain": [
       "<Figure size 640x480 with 1 Axes>"
      ]
     },
     "metadata": {},
     "output_type": "display_data"
    }
   ],
   "source": [
    "plt.plot(stepi, losses)\n",
    "plt.title(\"Step X Loss\")\n",
    "plt.xlabel(\"Step\")\n",
    "plt.ylabel(\"Loss\")"
   ]
  },
  {
   "cell_type": "code",
   "execution_count": null,
   "metadata": {},
   "outputs": [],
   "source": [
    "# plt.subplots(1, 2, figsize=(10, 5))\n",
    "# plt.subplot(1, 2, 1)\n",
    "# plt.plot(lri, lossi)\n",
    "# plt.title(\"Learning Rate X Loss\")\n",
    "# plt.xlabel(\"Learning Rate\")\n",
    "# plt.ylabel(\"Loss\")\n",
    "# plt.subplot(1, 2, 2)\n",
    "# plt.plot(lre, lossi)\n",
    "# plt.title(\"Exp Learning Rate X Loss\")\n",
    "# plt.xlabel(\"Exp Learning Rate\")\n",
    "# plt.ylabel(\"Loss\")\n"
   ]
  },
  {
   "cell_type": "markdown",
   "metadata": {},
   "source": [
    "## Eval on test and on train set to check over/underfitting"
   ]
  },
  {
   "cell_type": "code",
   "execution_count": 12,
   "metadata": {},
   "outputs": [
    {
     "name": "stdout",
     "output_type": "stream",
     "text": [
      "Test loss: 2.8262856006622314\n",
      "Train loss: 2.8240487575531006\n"
     ]
    }
   ],
   "source": [
    "# Evaluate on test set\n",
    "emb = C[X_test]\n",
    "h = torch.tanh(emb.view(-1, block_size*n_emb) @ W1 + b1)\n",
    "logits = h @ W2 + b2\n",
    "loss = F.cross_entropy(logits, Y_test)\n",
    "print(f'Test loss: {loss.item()}')\n",
    "\n",
    "# Evaluate on train set\n",
    "emb = C[X_train]\n",
    "h = torch.tanh(emb.view(-1, block_size*n_emb) @ W1 + b1)\n",
    "logits = h @ W2 + b2\n",
    "loss = F.cross_entropy(logits, Y_train)\n",
    "print(f'Train loss: {loss.item()}')"
   ]
  },
  {
   "cell_type": "markdown",
   "metadata": {},
   "source": [
    "## Visualize embeddings"
   ]
  },
  {
   "cell_type": "code",
   "execution_count": null,
   "metadata": {},
   "outputs": [
    {
     "data": {
      "text/plain": [
       "tensor([ 0.0147,  0.0625, -0.0673,  0.0812,  0.0327, -0.0849,  0.0482,  0.0849,\n",
       "         0.0116,  0.0620,  0.0408,  0.0190,  0.0013, -0.0472,  0.0286,  0.0121,\n",
       "         0.1128,  0.0411,  0.0101, -0.0239, -0.0531,  0.0226, -0.1596, -0.0011,\n",
       "         0.0309, -0.0318,  0.0730], grad_fn=<SelectBackward0>)"
      ]
     },
     "metadata": {},
     "output_type": "display_data"
    }
   ],
   "source": [
    "C[:, 1]"
   ]
  },
  {
   "cell_type": "code",
   "execution_count": null,
   "metadata": {},
   "outputs": [
    {
     "data": {
      "image/png": "[encoded data removed]",
      "text/plain": [
       "<Figure size 640x480 with 1 Axes>"
      ]
     },
     "metadata": {},
     "output_type": "display_data"
    }
   ],
   "source": [
    "# plt.figure(figsize=(8, 8))\n",
    "plt.scatter(C[:, 0].data, C[:, 1].data, s=200)\n",
    "for i in range(C.shape[0]):\n",
    "    plt.text(C[i, 0].item(), C[i, 1].item(), itos[i], fontsize=12, ha=\"center\", va=\"center\", color=\"white\")\n",
    "plt.grid('minor')"
   ]
  },
  {
   "cell_type": "markdown",
   "metadata": {},
   "source": [
    "## Sampling from the model"
   ]
  },
  {
   "cell_type": "code",
   "execution_count": 13,
   "metadata": {},
   "outputs": [
    {
     "name": "stdout",
     "output_type": "stream",
     "text": [
      "iparyvsoawitvaolmaaloroj.\n",
      "kaaymneaaarliuah.\n",
      "leeri.\n",
      ".\n",
      "lbny.\n",
      "rraoka.\n",
      "t.\n",
      ".\n",
      "keay.\n",
      "eknaemez.\n",
      "arar.\n",
      "r.\n",
      "inmtisa.\n",
      "ny.\n",
      "egeelnrcsiaaijhyl.\n",
      "hat.\n",
      "tilgr.\n",
      ".\n",
      "lana.\n",
      "lhsa.\n"
     ]
    }
   ],
   "source": [
    "for _ in range(20):\n",
    "    out = []\n",
    "    context = [0]*block_size\n",
    "    while True:\n",
    "        emb = C[torch.tensor([context])]\n",
    "        h = torch.tanh(emb.view(1, -1) @ W1 + b1)\n",
    "        logits = h @ W2 + b2\n",
    "        probs = F.softmax(logits, dim=1)\n",
    "        ix = torch.multinomial(probs, 1).item()\n",
    "        context = context[1:] + [ix]\n",
    "        out.append(ix)\n",
    "        if ix == 0: break\n",
    "    print(''.join([itos[i] for i in out]))"
   ]
  }
 ],
 "metadata": {
  "kernelspec": {
   "display_name": "nn_venv",
   "language": "python",
   "name": "python3"
  },
  "language_info": {
   "codemirror_mode": {
    "name": "ipython",
    "version": 3
   },
   "file_extension": ".py",
   "mimetype": "text/x-python",
   "name": "python",
   "nbconvert_exporter": "python",
   "pygments_lexer": "ipython3",
   "version": "3.11.11"
  }
 },
 "nbformat": 4,
 "nbformat_minor": 2
}
